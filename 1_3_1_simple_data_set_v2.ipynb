{
  "nbformat": 4,
  "nbformat_minor": 0,
  "metadata": {
    "colab": {
      "name": "1.3.1_simple_data_set_v2.ipynb",
      "version": "0.3.2",
      "provenance": [],
      "collapsed_sections": [],
      "include_colab_link": true
    },
    "kernelspec": {
      "display_name": "Python 3",
      "language": "python",
      "name": "python3"
    }
  },
  "cells": [
    {
      "cell_type": "markdown",
      "metadata": {
        "id": "view-in-github",
        "colab_type": "text"
      },
      "source": [
        "<a href=\"https://colab.research.google.com/github/hbeychaner/IBM-DL0110EN/blob/master/1_3_1_simple_data_set_v2.ipynb\" target=\"_parent\"><img src=\"https://colab.research.google.com/assets/colab-badge.svg\" alt=\"Open In Colab\"/></a>"
      ]
    },
    {
      "metadata": {
        "id": "LnYkD-XcYh_7",
        "colab_type": "text"
      },
      "cell_type": "markdown",
      "source": [
        "<a href=\"http://cocl.us/pytorch_link_top\">\n",
        "    <img src=\"https://s3-api.us-geo.objectstorage.softlayer.net/cf-courses-data/CognitiveClass/DL0110EN/notebook_images%20/Pytochtop.png\" width=\"750\" alt=\"IBM Product \" />\n",
        "</a> "
      ]
    },
    {
      "metadata": {
        "id": "JZ1fWbCdYiAA",
        "colab_type": "text"
      },
      "cell_type": "markdown",
      "source": [
        "<img src=\"https://s3-api.us-geo.objectstorage.softlayer.net/cf-courses-data/CognitiveClass/DL0110EN/notebook_images%20/cc-logo-square.png\" width=\"200\" alt=\"cognitiveclass.ai logo\" />"
      ]
    },
    {
      "metadata": {
        "id": "UJOkcpokYiAD",
        "colab_type": "text"
      },
      "cell_type": "markdown",
      "source": [
        "<h1>Simple Dataset</h1> "
      ]
    },
    {
      "metadata": {
        "id": "jWQM8YGvYiAG",
        "colab_type": "text"
      },
      "cell_type": "markdown",
      "source": [
        "<h2>Table of Contents</h2>"
      ]
    },
    {
      "metadata": {
        "id": "sWGZQbC-YiAJ",
        "colab_type": "text"
      },
      "cell_type": "markdown",
      "source": [
        "<p>In this lab, you will construct a basic dataset by using PyTorch and learn how to apply basic transformations to it.</p> \n",
        "<ul>\n",
        "    <li><a href=\"#Simple_Dataset\">Simple dataset</a></li>\n",
        "    <li><a href=\"#Transforms\">Transforms</a></li>\n",
        "    <li><a href=\"#Compose\">Compose</a></li>\n",
        "</ul>\n",
        "<p>Estimated Time Needed: <strong>30 min</strong></p>\n",
        "<hr>"
      ]
    },
    {
      "metadata": {
        "id": "pLZK0ahfYiAL",
        "colab_type": "text"
      },
      "cell_type": "markdown",
      "source": [
        "<h2>Preparation</h2>"
      ]
    },
    {
      "metadata": {
        "id": "vd7dPU0sYiAO",
        "colab_type": "text"
      },
      "cell_type": "markdown",
      "source": [
        "The following are the libraries we are going to use for this lab. The <code>torch.manual_seed()</code> is for forcing the random function to give the same number every time we try to recompile it."
      ]
    },
    {
      "metadata": {
        "id": "QdWOyJ_yYiAR",
        "colab_type": "code",
        "colab": {
          "base_uri": "https://localhost:8080/",
          "height": 36
        },
        "outputId": "c1b5950d-6ea4-4a1c-9b45-97fc3c5c8e9e"
      },
      "cell_type": "code",
      "source": [
        "# These are the libraries will be used for this lab.\n",
        "\n",
        "import torch\n",
        "from torch.utils.data import Dataset\n",
        "torch.manual_seed(1)"
      ],
      "execution_count": 1,
      "outputs": [
        {
          "output_type": "execute_result",
          "data": {
            "text/plain": [
              "<torch._C.Generator at 0x7fd4e22b2090>"
            ]
          },
          "metadata": {
            "tags": []
          },
          "execution_count": 1
        }
      ]
    },
    {
      "metadata": {
        "id": "yLgZszGyYiAa",
        "colab_type": "text"
      },
      "cell_type": "markdown",
      "source": [
        "<!--Empty Space for separating topics-->"
      ]
    },
    {
      "metadata": {
        "id": "fh-IS26fYiAd",
        "colab_type": "text"
      },
      "cell_type": "markdown",
      "source": [
        "<h2 id=\"Simple_Dataset\">Simple dataset</h2>"
      ]
    },
    {
      "metadata": {
        "id": "J1vU3t-UYiAh",
        "colab_type": "text"
      },
      "cell_type": "markdown",
      "source": [
        "Let us try to create our own dataset class."
      ]
    },
    {
      "metadata": {
        "id": "1QT1VT4GYiAk",
        "colab_type": "code",
        "colab": {}
      },
      "cell_type": "code",
      "source": [
        "# Define class for dataset\n",
        "\n",
        "class toy_set(Dataset):\n",
        "    \n",
        "    # Constructor with defult values \n",
        "    def __init__(self, length = 100, transform = None):\n",
        "        self.len = length\n",
        "        self.x = 2 * torch.ones(length, 2)\n",
        "        self.y = torch.ones(length, 1)\n",
        "        self.transform = transform\n",
        "     \n",
        "    # Getter\n",
        "    def __getitem__(self, index):\n",
        "        sample = self.x[index], self.y[index]\n",
        "        if self.transform:\n",
        "            sample = self.transform(sample)     \n",
        "        return sample\n",
        "    \n",
        "    # Get Length\n",
        "    def __len__(self):\n",
        "        return self.len"
      ],
      "execution_count": 0,
      "outputs": []
    },
    {
      "metadata": {
        "id": "MnNUJBgAYiA4",
        "colab_type": "text"
      },
      "cell_type": "markdown",
      "source": [
        "Now, let us create our <code>toy_set</code> object, and find out the value on index 1 and the length of the inital dataset"
      ]
    },
    {
      "metadata": {
        "id": "5zhelu6JYiA7",
        "colab_type": "code",
        "colab": {
          "base_uri": "https://localhost:8080/",
          "height": 72
        },
        "outputId": "630a7f0b-4b73-4b3b-8970-a3a6637bf77c"
      },
      "cell_type": "code",
      "source": [
        "# Create Dataset Object. Find out the value on index 1. Find out the length of Dataset Object.\n",
        "\n",
        "our_dataset = toy_set()\n",
        "print(\"Our toy_set object: \", our_dataset)\n",
        "print(\"Value on index 0 of our toy_set object: \", our_dataset[0])\n",
        "print(\"Our toy_set length: \", len(our_dataset))"
      ],
      "execution_count": 3,
      "outputs": [
        {
          "output_type": "stream",
          "text": [
            "Our toy_set object:  <__main__.toy_set object at 0x7fd4e1d2ec88>\n",
            "Value on index 0 of our toy_set object:  (tensor([2., 2.]), tensor([1.]))\n",
            "Our toy_set length:  100\n"
          ],
          "name": "stdout"
        }
      ]
    },
    {
      "metadata": {
        "id": "x1uLfvhuYiBC",
        "colab_type": "text"
      },
      "cell_type": "markdown",
      "source": [
        "As a result, we can apply the same indexing convention as a <code>list</code>,\n",
        "and apply the fuction <code>len</code> on the <code>toy_set</code> object. We are able to customize the indexing and length method by <code>def &#95;&#95;getitem&#95;&#95;(self, index)</code> and <code>def &#95;&#95;len&#95;&#95;(self)</code>."
      ]
    },
    {
      "metadata": {
        "id": "Lrp6RxVHYiBF",
        "colab_type": "text"
      },
      "cell_type": "markdown",
      "source": [
        "Now, let us print out the first 3 elements and assign them to x and y:"
      ]
    },
    {
      "metadata": {
        "id": "HaCsQtR1YiBH",
        "colab_type": "code",
        "colab": {
          "base_uri": "https://localhost:8080/",
          "height": 72
        },
        "outputId": "9e4791ad-8ce4-4f61-d5c3-f8fedde3304c"
      },
      "cell_type": "code",
      "source": [
        "# Use loop to print out first 3 elements in dataset\n",
        "\n",
        "for i in range(3):\n",
        "    x, y=our_dataset[i]\n",
        "    print(\"index: \", i, '; x:', x, '; y:', y)"
      ],
      "execution_count": 4,
      "outputs": [
        {
          "output_type": "stream",
          "text": [
            "index:  0 ; x: tensor([2., 2.]) ; y: tensor([1.])\n",
            "index:  1 ; x: tensor([2., 2.]) ; y: tensor([1.])\n",
            "index:  2 ; x: tensor([2., 2.]) ; y: tensor([1.])\n"
          ],
          "name": "stdout"
        }
      ]
    },
    {
      "metadata": {
        "id": "w-fGvI35YiBT",
        "colab_type": "text"
      },
      "cell_type": "markdown",
      "source": [
        "<!--Empty Space for separating topics-->"
      ]
    },
    {
      "metadata": {
        "id": "eElQnSpcYiBV",
        "colab_type": "text"
      },
      "cell_type": "markdown",
      "source": [
        "<h3>Practice</h3>"
      ]
    },
    {
      "metadata": {
        "id": "Fk-udgSOYiBY",
        "colab_type": "text"
      },
      "cell_type": "markdown",
      "source": [
        "Try to create an <code>toy_set</code> object with length <b>50</b>. Print out the length of your object."
      ]
    },
    {
      "metadata": {
        "id": "xYdpWd3hYiBa",
        "colab_type": "code",
        "colab": {
          "base_uri": "https://localhost:8080/",
          "height": 36
        },
        "outputId": "984e4547-adc1-4c0e-88b3-a17692876748"
      },
      "cell_type": "code",
      "source": [
        "# Practice: Create a new object with length 50, and print the length of object out.\n",
        "\n",
        "my_toy_set = toy_set(length = 50, transform = None)\n",
        "my_toy_set.len"
      ],
      "execution_count": 7,
      "outputs": [
        {
          "output_type": "execute_result",
          "data": {
            "text/plain": [
              "50"
            ]
          },
          "metadata": {
            "tags": []
          },
          "execution_count": 7
        }
      ]
    },
    {
      "metadata": {
        "id": "vCCVDPEsYiBi",
        "colab_type": "text"
      },
      "cell_type": "markdown",
      "source": [
        "Double-click <b>here</b> for the solution.\n",
        "<!-- \n",
        "my_dataset = toy_set(length = 50)\n",
        "print(\"My toy_set length: \", len(my_dataset))\n",
        "-->"
      ]
    },
    {
      "metadata": {
        "id": "BZBjWSM9YiBk",
        "colab_type": "text"
      },
      "cell_type": "markdown",
      "source": [
        "<!--Empty Space for separating topics-->"
      ]
    },
    {
      "metadata": {
        "id": "7hUmjlHXYiBt",
        "colab_type": "text"
      },
      "cell_type": "markdown",
      "source": [
        "<h2 id=\"Transforms\">Transforms</h2>"
      ]
    },
    {
      "metadata": {
        "id": "K3vZqMwKYiBv",
        "colab_type": "text"
      },
      "cell_type": "markdown",
      "source": [
        "You can also create a class for transforming the data. In this case, we will try to add 1 to x and multiply y by 2:"
      ]
    },
    {
      "metadata": {
        "id": "nUVuGhBGYiBy",
        "colab_type": "code",
        "colab": {}
      },
      "cell_type": "code",
      "source": [
        "# Create tranform class add_mult\n",
        "\n",
        "class add_mult(object):\n",
        "    \n",
        "    # Constructor\n",
        "    def __init__(self, addx = 1, muly = 2):\n",
        "        self.addx = addx\n",
        "        self.muly = muly\n",
        "    \n",
        "    # Executor\n",
        "    def __call__(self, sample):\n",
        "        x = sample[0]\n",
        "        y = sample[1]\n",
        "        x = x + self.addx\n",
        "        y = y * self.muly\n",
        "        sample = x, y\n",
        "        return sample"
      ],
      "execution_count": 0,
      "outputs": []
    },
    {
      "metadata": {
        "id": "5YE5O6WsYiB-",
        "colab_type": "text"
      },
      "cell_type": "markdown",
      "source": [
        "<!--Empty Space for separating topics-->"
      ]
    },
    {
      "metadata": {
        "id": "3V4IIbkqYiCA",
        "colab_type": "text"
      },
      "cell_type": "markdown",
      "source": [
        "Now, create a transform object:."
      ]
    },
    {
      "metadata": {
        "id": "8mwhGH7dYiCC",
        "colab_type": "code",
        "colab": {}
      },
      "cell_type": "code",
      "source": [
        "# Create an add_mult transform object, and an toy_set object\n",
        "\n",
        "a_m = add_mult()\n",
        "data_set = toy_set()"
      ],
      "execution_count": 0,
      "outputs": []
    },
    {
      "metadata": {
        "id": "SNKe8d25YiCI",
        "colab_type": "text"
      },
      "cell_type": "markdown",
      "source": [
        "Assign the outputs of the original dataset to <code>x</code> and <code>y</code>. Then, apply the transform <code>add_mult</code> to the dataset and output the values as <code>x_</code> and <code>y_</code>, respectively: "
      ]
    },
    {
      "metadata": {
        "id": "YVIDOzQ4YiCM",
        "colab_type": "code",
        "colab": {
          "base_uri": "https://localhost:8080/",
          "height": 383
        },
        "outputId": "f6b12a85-97e0-47e2-f07d-f72f504e74a3"
      },
      "cell_type": "code",
      "source": [
        "# Use loop to print out first 10 elements in dataset\n",
        "\n",
        "for i in range(10):\n",
        "    x, y = data_set[i]\n",
        "    print('Index: ', i, 'Original x: ', x, 'Original y: ', y)\n",
        "    x_, y_ = a_m(data_set[i])\n",
        "    print('Index: ', i, 'Transformed x_:', x_, 'Transformed y_:', y_)"
      ],
      "execution_count": 10,
      "outputs": [
        {
          "output_type": "stream",
          "text": [
            "Index:  0 Original x:  tensor([2., 2.]) Original y:  tensor([1.])\n",
            "Index:  0 Transformed x_: tensor([3., 3.]) Transformed y_: tensor([2.])\n",
            "Index:  1 Original x:  tensor([2., 2.]) Original y:  tensor([1.])\n",
            "Index:  1 Transformed x_: tensor([3., 3.]) Transformed y_: tensor([2.])\n",
            "Index:  2 Original x:  tensor([2., 2.]) Original y:  tensor([1.])\n",
            "Index:  2 Transformed x_: tensor([3., 3.]) Transformed y_: tensor([2.])\n",
            "Index:  3 Original x:  tensor([2., 2.]) Original y:  tensor([1.])\n",
            "Index:  3 Transformed x_: tensor([3., 3.]) Transformed y_: tensor([2.])\n",
            "Index:  4 Original x:  tensor([2., 2.]) Original y:  tensor([1.])\n",
            "Index:  4 Transformed x_: tensor([3., 3.]) Transformed y_: tensor([2.])\n",
            "Index:  5 Original x:  tensor([2., 2.]) Original y:  tensor([1.])\n",
            "Index:  5 Transformed x_: tensor([3., 3.]) Transformed y_: tensor([2.])\n",
            "Index:  6 Original x:  tensor([2., 2.]) Original y:  tensor([1.])\n",
            "Index:  6 Transformed x_: tensor([3., 3.]) Transformed y_: tensor([2.])\n",
            "Index:  7 Original x:  tensor([2., 2.]) Original y:  tensor([1.])\n",
            "Index:  7 Transformed x_: tensor([3., 3.]) Transformed y_: tensor([2.])\n",
            "Index:  8 Original x:  tensor([2., 2.]) Original y:  tensor([1.])\n",
            "Index:  8 Transformed x_: tensor([3., 3.]) Transformed y_: tensor([2.])\n",
            "Index:  9 Original x:  tensor([2., 2.]) Original y:  tensor([1.])\n",
            "Index:  9 Transformed x_: tensor([3., 3.]) Transformed y_: tensor([2.])\n"
          ],
          "name": "stdout"
        }
      ]
    },
    {
      "metadata": {
        "id": "vjLjPUtZYiCS",
        "colab_type": "text"
      },
      "cell_type": "markdown",
      "source": [
        "As the result, <code>x</code> has been added by 1 and y has been multiplied by 2, as <i>[2, 2] + 1 = [3, 3]</i> and <i>[1] x 2 = [2]</i>"
      ]
    },
    {
      "metadata": {
        "id": "DG-WXPdeYiCU",
        "colab_type": "text"
      },
      "cell_type": "markdown",
      "source": [
        "<!--Empty Space for separating topics-->"
      ]
    },
    {
      "metadata": {
        "id": "2qiUMTEBYiCX",
        "colab_type": "text"
      },
      "cell_type": "markdown",
      "source": [
        "We can apply the transform object every time we create a new <code>toy_set object</code>? Remember, we have the constructor in toy_set class with the parameter <code>transform = None</code>.\n",
        "When we create a new object using the constructor, we can assign the transform object to the parameter transform, as the following code demonstrates."
      ]
    },
    {
      "metadata": {
        "id": "91x7is1AYiCZ",
        "colab_type": "code",
        "colab": {}
      },
      "cell_type": "code",
      "source": [
        "# Create a new data_set object with add_mult object as transform\n",
        "\n",
        "cust_data_set = toy_set(transform = a_m)"
      ],
      "execution_count": 0,
      "outputs": []
    },
    {
      "metadata": {
        "id": "CB6d4TsXYiCg",
        "colab_type": "text"
      },
      "cell_type": "markdown",
      "source": [
        "This applied <code>a_m</code> object (a transform method) to every element in <code>cust_data_set</code> as initialized. Let us print out the first 10 elements in <code>cust_data_set</code> in order to see whether the <code>a_m</code> applied on <code>cust_data_set</code>"
      ]
    },
    {
      "metadata": {
        "id": "ev4YqBwAYiCn",
        "colab_type": "code",
        "colab": {
          "base_uri": "https://localhost:8080/",
          "height": 383
        },
        "outputId": "261932bd-7d28-4fb6-b546-21df17ca64a0"
      },
      "cell_type": "code",
      "source": [
        "# Use loop to print out first 10 elements in dataset\n",
        "\n",
        "for i in range(10):\n",
        "    x, y = data_set[i]\n",
        "    print('Index: ', i, 'Original x: ', x, 'Original y: ', y)\n",
        "    x_, y_ = cust_data_set[i]\n",
        "    print('Index: ', i, 'Transformed x_:', x_, 'Transformed y_:', y_)"
      ],
      "execution_count": 12,
      "outputs": [
        {
          "output_type": "stream",
          "text": [
            "Index:  0 Original x:  tensor([2., 2.]) Original y:  tensor([1.])\n",
            "Index:  0 Transformed x_: tensor([3., 3.]) Transformed y_: tensor([2.])\n",
            "Index:  1 Original x:  tensor([2., 2.]) Original y:  tensor([1.])\n",
            "Index:  1 Transformed x_: tensor([3., 3.]) Transformed y_: tensor([2.])\n",
            "Index:  2 Original x:  tensor([2., 2.]) Original y:  tensor([1.])\n",
            "Index:  2 Transformed x_: tensor([3., 3.]) Transformed y_: tensor([2.])\n",
            "Index:  3 Original x:  tensor([2., 2.]) Original y:  tensor([1.])\n",
            "Index:  3 Transformed x_: tensor([3., 3.]) Transformed y_: tensor([2.])\n",
            "Index:  4 Original x:  tensor([2., 2.]) Original y:  tensor([1.])\n",
            "Index:  4 Transformed x_: tensor([3., 3.]) Transformed y_: tensor([2.])\n",
            "Index:  5 Original x:  tensor([2., 2.]) Original y:  tensor([1.])\n",
            "Index:  5 Transformed x_: tensor([3., 3.]) Transformed y_: tensor([2.])\n",
            "Index:  6 Original x:  tensor([2., 2.]) Original y:  tensor([1.])\n",
            "Index:  6 Transformed x_: tensor([3., 3.]) Transformed y_: tensor([2.])\n",
            "Index:  7 Original x:  tensor([2., 2.]) Original y:  tensor([1.])\n",
            "Index:  7 Transformed x_: tensor([3., 3.]) Transformed y_: tensor([2.])\n",
            "Index:  8 Original x:  tensor([2., 2.]) Original y:  tensor([1.])\n",
            "Index:  8 Transformed x_: tensor([3., 3.]) Transformed y_: tensor([2.])\n",
            "Index:  9 Original x:  tensor([2., 2.]) Original y:  tensor([1.])\n",
            "Index:  9 Transformed x_: tensor([3., 3.]) Transformed y_: tensor([2.])\n"
          ],
          "name": "stdout"
        }
      ]
    },
    {
      "metadata": {
        "id": "uu0YqQh9YiC0",
        "colab_type": "text"
      },
      "cell_type": "markdown",
      "source": [
        "The result is the same as the previous method."
      ]
    },
    {
      "metadata": {
        "id": "5kTRgmyNYiC3",
        "colab_type": "text"
      },
      "cell_type": "markdown",
      "source": [
        "<!--Empty Space for separating topics-->"
      ]
    },
    {
      "metadata": {
        "id": "uGsK2G8kYiC7",
        "colab_type": "text"
      },
      "cell_type": "markdown",
      "source": [
        "<h3>Practice</h3>"
      ]
    },
    {
      "metadata": {
        "id": "KDkhRFn0YiC9",
        "colab_type": "text"
      },
      "cell_type": "markdown",
      "source": [
        "Try to construct your own <code>my_add_mult</code> class by adding x and y with 2 and multiply both x and y by 10. Apply it on a new toy_set object, and print out the first 3 elements from the transformed dataset."
      ]
    },
    {
      "metadata": {
        "id": "izHTJ-ZdYiDA",
        "colab_type": "code",
        "colab": {
          "base_uri": "https://localhost:8080/",
          "height": 72
        },
        "outputId": "ad847cd8-0f5e-406e-d8ea-0a94406e596e"
      },
      "cell_type": "code",
      "source": [
        "# Practice: Construct your own my_add_mult transform. Apply my_add_mult on a new toy_set object. Print out the first three elements from the transformed dataset.\n",
        "\n",
        "# Create tranform class add_mult\n",
        "\n",
        "class my_add_mult(object):\n",
        "    \n",
        "    # Constructor\n",
        "    def __init__(self, add = 2, mul = 10):\n",
        "        self.add = add\n",
        "        self.mul = mul\n",
        "    \n",
        "    # Executor\n",
        "    def __call__(self, sample):\n",
        "        x = sample[0]\n",
        "        y = sample[1]\n",
        "        x = x + self.add\n",
        "        y = y + self.add\n",
        "        y = y * self.mul\n",
        "        x = x * self.mul\n",
        "        sample = x, y\n",
        "        return sample\n",
        "      \n",
        "my_dataset = toy_set(length = 50, transform = my_add_mult())\n",
        "\n",
        "for i in range(3): \n",
        "  x_, y_ = my_dataset[i]\n",
        "  print (\"Index: \", i, \"Transformed x_:\", x_, \"Transformed y_:\", y_)"
      ],
      "execution_count": 19,
      "outputs": [
        {
          "output_type": "stream",
          "text": [
            "Index:  0 Transformed x_: tensor([40., 40.]) Transformed y_: tensor([30.])\n",
            "Index:  1 Transformed x_: tensor([40., 40.]) Transformed y_: tensor([30.])\n",
            "Index:  2 Transformed x_: tensor([40., 40.]) Transformed y_: tensor([30.])\n"
          ],
          "name": "stdout"
        }
      ]
    },
    {
      "metadata": {
        "id": "a55DBCK-YiDP",
        "colab_type": "text"
      },
      "cell_type": "markdown",
      "source": [
        "<!--Empty Space for separating topics-->"
      ]
    },
    {
      "metadata": {
        "id": "tjfG13ksYiDS",
        "colab_type": "text"
      },
      "cell_type": "markdown",
      "source": [
        "<h2 id=\"Compose\">Compose</h2>"
      ]
    },
    {
      "metadata": {
        "id": "N9a2ZOlHYiDa",
        "colab_type": "text"
      },
      "cell_type": "markdown",
      "source": [
        "You can compose multiple transforms on the dataset object. First, import <code>transforms</code> from <code>torchvision</code>:"
      ]
    },
    {
      "metadata": {
        "id": "fdD8p6XjYiDc",
        "colab_type": "code",
        "colab": {}
      },
      "cell_type": "code",
      "source": [
        "# Run the command below when you do not have torchvision installed\n",
        "# !conda install -y torchvision\n",
        "\n",
        "from torchvision import transforms"
      ],
      "execution_count": 0,
      "outputs": []
    },
    {
      "metadata": {
        "id": "HnKnjRfxYiDj",
        "colab_type": "text"
      },
      "cell_type": "markdown",
      "source": [
        "Then, create a new transform class that multiplies each of the elements by 100: "
      ]
    },
    {
      "metadata": {
        "id": "h98ceGHsYiDl",
        "colab_type": "code",
        "colab": {}
      },
      "cell_type": "code",
      "source": [
        "# Create tranform class mult\n",
        "\n",
        "class mult(object):\n",
        "    \n",
        "    # Constructor\n",
        "    def __init__(self, mult = 100):\n",
        "        self.mult = mult\n",
        "        \n",
        "    # Executor\n",
        "    def __call__(self, sample):\n",
        "        x = sample[0]\n",
        "        y = sample[1]\n",
        "        x = x * self.mult\n",
        "        y = y * self.mult\n",
        "        sample = x, y\n",
        "        return sample"
      ],
      "execution_count": 0,
      "outputs": []
    },
    {
      "metadata": {
        "id": "B2HQBVKqYiDt",
        "colab_type": "text"
      },
      "cell_type": "markdown",
      "source": [
        "Now let us try to combine the transforms <code>add_mult</code> and <code>mult</code>"
      ]
    },
    {
      "metadata": {
        "id": "5Nw0luQ0YiDv",
        "colab_type": "code",
        "colab": {
          "base_uri": "https://localhost:8080/",
          "height": 90
        },
        "outputId": "0c31a27e-71c3-4e47-ffec-7614481f0df2"
      },
      "cell_type": "code",
      "source": [
        "# Combine the add_mult() and mult()\n",
        "\n",
        "data_transform = transforms.Compose([add_mult(), mult()])\n",
        "print(\"The combination of transforms (Compose): \", data_transform)"
      ],
      "execution_count": 25,
      "outputs": [
        {
          "output_type": "stream",
          "text": [
            "The combination of transforms (Compose):  Compose(\n",
            "    <__main__.add_mult object at 0x7fd4e1c18e10>\n",
            "    <__main__.mult object at 0x7fd4e1c18eb8>\n",
            ")\n"
          ],
          "name": "stdout"
        }
      ]
    },
    {
      "metadata": {
        "id": "lCYQvwm0YiD1",
        "colab_type": "text"
      },
      "cell_type": "markdown",
      "source": [
        "The new <code>Compose</code> object will perform each transform concurrently as shown in this figure:"
      ]
    },
    {
      "metadata": {
        "id": "yCtOecSlYiD6",
        "colab_type": "text"
      },
      "cell_type": "markdown",
      "source": [
        "<img src=\"https://s3-api.us-geo.objectstorage.softlayer.net/cf-courses-data/CognitiveClass/DL0110EN/notebook_images%20/chapter%201/1.3.1_trasform.png\" width=\"500\" alt=\"Compose PyTorch\">"
      ]
    },
    {
      "metadata": {
        "id": "ON3RLuCHYiD9",
        "colab_type": "text"
      },
      "cell_type": "markdown",
      "source": [
        "Now we can pass the new <code>Compose</code> object (The combination of methods <code>add_mult()</code> and <code>mult</code>) to the constructor for creating <code>toy_set</code> object."
      ]
    },
    {
      "metadata": {
        "id": "5ShsWfy8YiEA",
        "colab_type": "code",
        "colab": {}
      },
      "cell_type": "code",
      "source": [
        "# Create a new toy_set object with compose object as transform\n",
        "\n",
        "compose_data_set = toy_set(transform = data_transform)"
      ],
      "execution_count": 0,
      "outputs": []
    },
    {
      "metadata": {
        "id": "oDOwDGWaYiEJ",
        "colab_type": "text"
      },
      "cell_type": "markdown",
      "source": [
        "Let us print out the first 3 elements in different <code>toy_set</code> datasets in order to compare the output after different transforms have been applied: "
      ]
    },
    {
      "metadata": {
        "id": "rAuIA37EYiEM",
        "colab_type": "code",
        "colab": {
          "base_uri": "https://localhost:8080/",
          "height": 182
        },
        "outputId": "0388097b-4afe-4745-f7b1-9d70b1f23d20"
      },
      "cell_type": "code",
      "source": [
        "# Use loop to print out first 3 elements in dataset\n",
        "\n",
        "for i in range(3):\n",
        "    x, y = data_set[i]\n",
        "    print('Index: ', i, 'Original x: ', x, 'Original y: ', y)\n",
        "    x_, y_ = cust_data_set[i]\n",
        "    print('Index: ', i, 'Transformed x_:', x_, 'Transformed y_:', y_)\n",
        "    x_co, y_co = compose_data_set[i]\n",
        "    print('Index: ', i, 'Compose Transformed x_co: ', x_co ,'Compose Transformed y_co: ',y_co)"
      ],
      "execution_count": 27,
      "outputs": [
        {
          "output_type": "stream",
          "text": [
            "Index:  0 Original x:  tensor([2., 2.]) Original y:  tensor([1.])\n",
            "Index:  0 Transformed x_: tensor([3., 3.]) Transformed y_: tensor([2.])\n",
            "Index:  0 Compose Transformed x_co:  tensor([300., 300.]) Compose Transformed y_co:  tensor([200.])\n",
            "Index:  1 Original x:  tensor([2., 2.]) Original y:  tensor([1.])\n",
            "Index:  1 Transformed x_: tensor([3., 3.]) Transformed y_: tensor([2.])\n",
            "Index:  1 Compose Transformed x_co:  tensor([300., 300.]) Compose Transformed y_co:  tensor([200.])\n",
            "Index:  2 Original x:  tensor([2., 2.]) Original y:  tensor([1.])\n",
            "Index:  2 Transformed x_: tensor([3., 3.]) Transformed y_: tensor([2.])\n",
            "Index:  2 Compose Transformed x_co:  tensor([300., 300.]) Compose Transformed y_co:  tensor([200.])\n"
          ],
          "name": "stdout"
        }
      ]
    },
    {
      "metadata": {
        "id": "6VUP2HK2YiES",
        "colab_type": "text"
      },
      "cell_type": "markdown",
      "source": [
        "Let us see what happened on index 0. The original value of <code>x</code> is <i>[2, 2]</i>, and the original value of <code>y</code> is [1]. If we only applied <code>add_mult()</code> on the original dataset, then the <code>x</code> became <i>[3, 3]</i> and y became <i>[2]</i>. Now let us see what is the value after applied both <code>add_mult()</code> and <code>mult()</code>. The result of x is <i>[300, 300]</i> and y is <i>[200]</i>. The calculation which is equavalent to the compose is <i> x = ([2, 2] + 1) x 100 = [300, 300], y = ([1] x 2) x 100 = 200</i>"
      ]
    },
    {
      "metadata": {
        "id": "xVV7XlgjYiEV",
        "colab_type": "text"
      },
      "cell_type": "markdown",
      "source": [
        "<h3>Practice</h3>"
      ]
    },
    {
      "metadata": {
        "id": "hxJ1N6jcYiEY",
        "colab_type": "text"
      },
      "cell_type": "markdown",
      "source": [
        "Try to combine the <code>mult()</code> and <code>add_mult()</code> as <code>mult()</code> to be executed first. And apply this on a new <code>toy_set</code> dataset. Print out the first 3 elements in the transformed dataset."
      ]
    },
    {
      "metadata": {
        "id": "fBakDPyyYiEa",
        "colab_type": "code",
        "colab": {
          "base_uri": "https://localhost:8080/",
          "height": 72
        },
        "outputId": "1db9408f-3bc3-469e-9d5f-b8e9317b6774"
      },
      "cell_type": "code",
      "source": [
        "# Practice: Make a compose as mult() execute first and then add_mult(). Apply the compose on toy_set dataset. Print out the first 3 elements in the transformed dataset.\n",
        "\n",
        "my_transform = transforms.Compose([mult(), add_mult()])\n",
        "my_data_set = toy_set(transform = my_transform)\n",
        "for i in range(3):\n",
        "  x_, y_ = my_data_set[i]\n",
        "  print(x_, \" \", y_)"
      ],
      "execution_count": 33,
      "outputs": [
        {
          "output_type": "stream",
          "text": [
            "tensor([201., 201.])   tensor([200.])\n",
            "tensor([201., 201.])   tensor([200.])\n",
            "tensor([201., 201.])   tensor([200.])\n"
          ],
          "name": "stdout"
        }
      ]
    },
    {
      "metadata": {
        "id": "EAnOlEDUYiEo",
        "colab_type": "text"
      },
      "cell_type": "markdown",
      "source": [
        "Double-click <b>here</b> for the solution.\n",
        "<!--\n",
        "my_compose = transforms.Compose([mult(), add_mult()])\n",
        "my_transformed_dataset = toy_set(transform = my_compose)\n",
        "for i in range(3):\n",
        "    x_, y_ = my_transformed_dataset[i]\n",
        "    print('Index: ', i, 'Transformed x_:', x_, 'Transformed y_:', y_)\n",
        "-->"
      ]
    },
    {
      "metadata": {
        "id": "gw6qUL4yYiE2",
        "colab_type": "text"
      },
      "cell_type": "markdown",
      "source": [
        "<!--Empty Space for separating topics-->"
      ]
    },
    {
      "metadata": {
        "id": "nRY0xIEiYiE7",
        "colab_type": "text"
      },
      "cell_type": "markdown",
      "source": [
        "<a href=\"http://cocl.us/pytorch_link_bottom\">\n",
        "    <img src=\"https://s3-api.us-geo.objectstorage.softlayer.net/cf-courses-data/CognitiveClass/DL0110EN/notebook_images%20/notebook_bottom%20.png\" width=\"750\" alt=\"PyTorch Bottom\" />\n",
        "</a>"
      ]
    },
    {
      "metadata": {
        "id": "9vlOBdVyYiE9",
        "colab_type": "text"
      },
      "cell_type": "markdown",
      "source": [
        "<h2>About the Authors:</h2> \n",
        "\n",
        "<a href=\"https://www.linkedin.com/in/joseph-s-50398b136/\">Joseph Santarcangelo</a> has a PhD in Electrical Engineering, his research focused on using machine learning, signal processing, and computer vision to determine how videos impact human cognition. Joseph has been working for IBM since he completed his PhD."
      ]
    },
    {
      "metadata": {
        "id": "DS2L7GxAYiE-",
        "colab_type": "text"
      },
      "cell_type": "markdown",
      "source": [
        "Other contributors: <a href=\"https://www.linkedin.com/in/michelleccarey/\">Michelle Carey</a>, <a href=\"www.linkedin.com/in/jiahui-mavis-zhou-a4537814a\">Mavis Zhou</a> "
      ]
    },
    {
      "metadata": {
        "id": "5eVbtDS_YiFB",
        "colab_type": "text"
      },
      "cell_type": "markdown",
      "source": [
        "<hr>"
      ]
    },
    {
      "metadata": {
        "id": "Py3qcV0RYiFC",
        "colab_type": "text"
      },
      "cell_type": "markdown",
      "source": [
        "Copyright &copy; 2018 <a href=\"cognitiveclass.ai?utm_source=bducopyrightlink&utm_medium=dswb&utm_campaign=bdu\">cognitiveclass.ai</a>. This notebook and its source code are released under the terms of the <a href=\"https://bigdatauniversity.com/mit-license/\">MIT License</a>."
      ]
    }
  ]
}