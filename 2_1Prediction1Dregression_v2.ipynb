{
  "nbformat": 4,
  "nbformat_minor": 0,
  "metadata": {
    "colab": {
      "name": "2.1Prediction1Dregression_v2.ipynb",
      "version": "0.3.2",
      "provenance": [],
      "include_colab_link": true
    },
    "kernelspec": {
      "display_name": "Python 3",
      "language": "python",
      "name": "python3"
    }
  },
  "cells": [
    {
      "cell_type": "markdown",
      "metadata": {
        "id": "view-in-github",
        "colab_type": "text"
      },
      "source": [
        "<a href=\"https://colab.research.google.com/github/hbeychaner/IBM-DL0110EN/blob/master/2_1Prediction1Dregression_v2.ipynb\" target=\"_parent\"><img src=\"https://colab.research.google.com/assets/colab-badge.svg\" alt=\"Open In Colab\"/></a>"
      ]
    },
    {
      "metadata": {
        "id": "vHqu-kqEJxe2",
        "colab_type": "text"
      },
      "cell_type": "markdown",
      "source": [
        "<a href=\"http://cocl.us/pytorch_link_top\">\n",
        "    <img src=\"https://s3-api.us-geo.objectstorage.softlayer.net/cf-courses-data/CognitiveClass/DL0110EN/notebook_images%20/Pytochtop.png\" width=\"750\" alt=\"IBM Product \" />\n",
        "</a> "
      ]
    },
    {
      "metadata": {
        "id": "rL_0tBSeJxe7",
        "colab_type": "text"
      },
      "cell_type": "markdown",
      "source": [
        "<img src=\"https://s3-api.us-geo.objectstorage.softlayer.net/cf-courses-data/CognitiveClass/DL0110EN/notebook_images%20/cc-logo-square.png\" width=\"200\" alt=\"cognitiveclass.ai logo\" />"
      ]
    },
    {
      "metadata": {
        "id": "Lv9SPmrUJxe_",
        "colab_type": "text"
      },
      "cell_type": "markdown",
      "source": [
        "<h1>Linear Regression 1D: Prediction</h1>"
      ]
    },
    {
      "metadata": {
        "id": "QyqQXT-XJxfB",
        "colab_type": "text"
      },
      "cell_type": "markdown",
      "source": [
        "<h2>Table of Contents</h2>\n",
        "<p>In this lab, we will  review how to make a prediction in several different ways by using PyTorch.</h2>\n",
        "<ul>\n",
        "    <li><a href=\"#Prediction\">Prediction</a></li>\n",
        "    <li><a href=\"#Linear\">Class Linear</a></li>\n",
        "    <li><a href=\"#Cust\">Build Custom Modules</a></li>\n",
        "</ul>\n",
        "<p>Estimated Time Needed: <strong>15 min</strong></p>\n",
        "\n",
        "<hr>"
      ]
    },
    {
      "metadata": {
        "id": "1LctlwGIJxfE",
        "colab_type": "text"
      },
      "cell_type": "markdown",
      "source": [
        "<h2>Preparation</h2>"
      ]
    },
    {
      "metadata": {
        "id": "GFYaKXUXJxfG",
        "colab_type": "text"
      },
      "cell_type": "markdown",
      "source": [
        "The following are the libraries we are going to use for this lab."
      ]
    },
    {
      "metadata": {
        "id": "uqNPnU8sJxfK",
        "colab_type": "code",
        "colab": {}
      },
      "cell_type": "code",
      "source": [
        "# These are the libraries will be used for this lab.\n",
        "\n",
        "import torch"
      ],
      "execution_count": 0,
      "outputs": []
    },
    {
      "metadata": {
        "id": "89_QwCGpJxfT",
        "colab_type": "text"
      },
      "cell_type": "markdown",
      "source": [
        "<!--Empty Space for separating topics-->"
      ]
    },
    {
      "metadata": {
        "id": "C4GlWIPlJxfW",
        "colab_type": "text"
      },
      "cell_type": "markdown",
      "source": [
        "<h2 id=\"Prediction\">Prediction</h2>"
      ]
    },
    {
      "metadata": {
        "id": "uajTIjybJxfY",
        "colab_type": "text"
      },
      "cell_type": "markdown",
      "source": [
        "Let us create the following expressions:"
      ]
    },
    {
      "metadata": {
        "id": "StInlb_iJxfc",
        "colab_type": "text"
      },
      "cell_type": "markdown",
      "source": [
        "$b=-1,w=2$\n",
        "\n",
        "$\\hat{y}=-1+2x$"
      ]
    },
    {
      "metadata": {
        "id": "Ff2zFKNDJxff",
        "colab_type": "text"
      },
      "cell_type": "markdown",
      "source": [
        "First, define the parameters:"
      ]
    },
    {
      "metadata": {
        "id": "VJ6R8midJxfj",
        "colab_type": "code",
        "colab": {}
      },
      "cell_type": "code",
      "source": [
        "# Define w = 2 and b = -1 for y = wx + b\n",
        "\n",
        "w = torch.tensor(2.0, requires_grad = True)\n",
        "b = torch.tensor(-1.0, requires_grad = True)"
      ],
      "execution_count": 0,
      "outputs": []
    },
    {
      "metadata": {
        "id": "sLKr9zyXJxfw",
        "colab_type": "text"
      },
      "cell_type": "markdown",
      "source": [
        "Then, define the function <code>forward(x, w, b)</code> makes the prediction: "
      ]
    },
    {
      "metadata": {
        "id": "3dK6WcNqJxfy",
        "colab_type": "code",
        "colab": {}
      },
      "cell_type": "code",
      "source": [
        "# Function forward(x) for prediction\n",
        "\n",
        "def forward(x):\n",
        "    yhat = w * x + b\n",
        "    return yhat"
      ],
      "execution_count": 0,
      "outputs": []
    },
    {
      "metadata": {
        "id": "58AXu4FpJxf7",
        "colab_type": "text"
      },
      "cell_type": "markdown",
      "source": [
        "Let's make the following prediction at <i>x = 1</i>"
      ]
    },
    {
      "metadata": {
        "id": "egbrfTRIJxf-",
        "colab_type": "text"
      },
      "cell_type": "markdown",
      "source": [
        "$\\hat{y}=-1+2x$\n",
        "\n",
        "$\\hat{y}=-1+2(1)$"
      ]
    },
    {
      "metadata": {
        "id": "I3FfRJRnJxgA",
        "colab_type": "code",
        "colab": {
          "base_uri": "https://localhost:8080/",
          "height": 54
        },
        "outputId": "2eaa01a0-f847-4dbe-cd41-e172c461b967"
      },
      "cell_type": "code",
      "source": [
        "# Predict y = 2x - 1 at x = 1\n",
        "\n",
        "x = torch.tensor([[1.0]])\n",
        "yhat = forward(x)\n",
        "print(\"The prediction: \", yhat)"
      ],
      "execution_count": 7,
      "outputs": [
        {
          "output_type": "stream",
          "text": [
            "The prediction:  tensor([[1.]], grad_fn=<AddBackward0>)\n",
            "None\n"
          ],
          "name": "stdout"
        }
      ]
    },
    {
      "metadata": {
        "id": "jSiH1nUvJxgR",
        "colab_type": "text"
      },
      "cell_type": "markdown",
      "source": [
        "<!--Empty Space for separating topics-->"
      ]
    },
    {
      "metadata": {
        "id": "X4ywgIDaJxgU",
        "colab_type": "text"
      },
      "cell_type": "markdown",
      "source": [
        "Now, let us try to make the prediction for multiple inputs:"
      ]
    },
    {
      "metadata": {
        "id": "IO9QgPo9Jxgk",
        "colab_type": "text"
      },
      "cell_type": "markdown",
      "source": [
        "<img src=\"https://s3-api.us-geo.objectstorage.softlayer.net/cf-courses-data/CognitiveClass/DL0110EN/notebook_images%20/chapter2/2.1.2.png\" width=\"500\" alt=\"Linear Regression Multiple Input Samples\" />"
      ]
    },
    {
      "metadata": {
        "id": "fhG9qJ0lJxgm",
        "colab_type": "text"
      },
      "cell_type": "markdown",
      "source": [
        "Let us construct the <code>x</code> tensor first. Check the shape of <code>x</code>."
      ]
    },
    {
      "metadata": {
        "id": "axRT2c_YJxgr",
        "colab_type": "code",
        "colab": {
          "base_uri": "https://localhost:8080/",
          "height": 36
        },
        "outputId": "0fa17ee0-fe67-4bc4-ece7-14d04c426a89"
      },
      "cell_type": "code",
      "source": [
        "# Create x Tensor and check the shape of x tensor\n",
        "\n",
        "x = torch.tensor([[1.0], [2.0]])\n",
        "print(\"The shape of x: \", x.shape)"
      ],
      "execution_count": 9,
      "outputs": [
        {
          "output_type": "stream",
          "text": [
            "The shape of x:  torch.Size([2, 1])\n"
          ],
          "name": "stdout"
        }
      ]
    },
    {
      "metadata": {
        "id": "eATMATxTJxg-",
        "colab_type": "text"
      },
      "cell_type": "markdown",
      "source": [
        "Now make the prediction: "
      ]
    },
    {
      "metadata": {
        "id": "GuN_L_wpJxhI",
        "colab_type": "code",
        "colab": {
          "base_uri": "https://localhost:8080/",
          "height": 54
        },
        "outputId": "43171342-be4f-4c40-cc99-4b76e6aa5647"
      },
      "cell_type": "code",
      "source": [
        "# Make the prediction of y = 2x - 1 at x = [1, 2]\n",
        "\n",
        "yhat = forward(x)\n",
        "print(\"The prediction: \", yhat)"
      ],
      "execution_count": 10,
      "outputs": [
        {
          "output_type": "stream",
          "text": [
            "The prediction:  tensor([[1.],\n",
            "        [3.]], grad_fn=<AddBackward0>)\n"
          ],
          "name": "stdout"
        }
      ]
    },
    {
      "metadata": {
        "id": "QW2KAodVJxhQ",
        "colab_type": "text"
      },
      "cell_type": "markdown",
      "source": [
        "The result is the same as what it is in the image above."
      ]
    },
    {
      "metadata": {
        "id": "gPccSt5GJxhU",
        "colab_type": "text"
      },
      "cell_type": "markdown",
      "source": [
        "<!--Empty Space for separating topics-->"
      ]
    },
    {
      "metadata": {
        "id": "MblITtJEJxhX",
        "colab_type": "text"
      },
      "cell_type": "markdown",
      "source": [
        "<h3>Practice</h3>"
      ]
    },
    {
      "metadata": {
        "id": "Nye37ieQJxhZ",
        "colab_type": "text"
      },
      "cell_type": "markdown",
      "source": [
        "Make a prediction of the following <code>x</code> tensor using the <code>w</code> and <code>b</code> from above."
      ]
    },
    {
      "metadata": {
        "id": "Zj7lGF7fJxhc",
        "colab_type": "code",
        "colab": {
          "base_uri": "https://localhost:8080/",
          "height": 72
        },
        "outputId": "bc66cb7d-a8bf-4185-b28b-409dbd89810f"
      },
      "cell_type": "code",
      "source": [
        "# Practice: Make a prediction of y = 2x - 1 at x = [[1.0], [2.0], [3.0]]\n",
        "\n",
        "x = torch.tensor([[1.0], [2.0], [3.0]])\n",
        "yhat = forward(x)\n",
        "print(\"Predicted value: \", yhat)"
      ],
      "execution_count": 11,
      "outputs": [
        {
          "output_type": "stream",
          "text": [
            "Predicted value:  tensor([[1.],\n",
            "        [3.],\n",
            "        [5.]], grad_fn=<AddBackward0>)\n"
          ],
          "name": "stdout"
        }
      ]
    },
    {
      "metadata": {
        "id": "QecHDwhmJxhi",
        "colab_type": "text"
      },
      "cell_type": "markdown",
      "source": [
        "Double-click <b>here</b> for the solution.\n",
        "\n",
        "<!-- Your answer is below:\n",
        "yhat = forward(x)\n",
        "print(\"The prediction: \", yhat)\n",
        "-->"
      ]
    },
    {
      "metadata": {
        "id": "ftgWUrqdJxhk",
        "colab_type": "text"
      },
      "cell_type": "markdown",
      "source": [
        "<!--Empty Space for separating topics-->"
      ]
    },
    {
      "metadata": {
        "id": "uMemHuJPJxhm",
        "colab_type": "text"
      },
      "cell_type": "markdown",
      "source": [
        "<h2 id=\"Linear\">Class Linear</h2>"
      ]
    },
    {
      "metadata": {
        "id": "7Hh_PjhkJxhp",
        "colab_type": "text"
      },
      "cell_type": "markdown",
      "source": [
        "The linear class can be used to make a prediction. We can also use the linear class to build more complex models. Let's import the module:"
      ]
    },
    {
      "metadata": {
        "id": "G6nea6lJJxhr",
        "colab_type": "code",
        "colab": {}
      },
      "cell_type": "code",
      "source": [
        "# Import Class Linear\n",
        "\n",
        "from torch.nn import Linear"
      ],
      "execution_count": 0,
      "outputs": []
    },
    {
      "metadata": {
        "id": "VVZP0lCdJxh2",
        "colab_type": "text"
      },
      "cell_type": "markdown",
      "source": [
        "Set the random seed because the parameters are randomly initialized:"
      ]
    },
    {
      "metadata": {
        "id": "gZB5Ef-JJxh4",
        "colab_type": "code",
        "colab": {
          "base_uri": "https://localhost:8080/",
          "height": 36
        },
        "outputId": "72a76c31-be60-47a5-dee1-fe0ccad828d1"
      },
      "cell_type": "code",
      "source": [
        "# Set random seed\n",
        "\n",
        "torch.manual_seed(1)"
      ],
      "execution_count": 14,
      "outputs": [
        {
          "output_type": "execute_result",
          "data": {
            "text/plain": [
              "<torch._C.Generator at 0x7f482d2de0b0>"
            ]
          },
          "metadata": {
            "tags": []
          },
          "execution_count": 14
        }
      ]
    },
    {
      "metadata": {
        "id": "4BcZwLsOJxiD",
        "colab_type": "text"
      },
      "cell_type": "markdown",
      "source": [
        "<!--Empty Space for separating topics-->"
      ]
    },
    {
      "metadata": {
        "id": "hjwGoZ_IJxiI",
        "colab_type": "text"
      },
      "cell_type": "markdown",
      "source": [
        "Let us create the linear object by using the constructor. The parameters are randomly created. Let us print out to see what <i>w</i> and <i>b</i> are."
      ]
    },
    {
      "metadata": {
        "id": "a-2nDQhpJxiN",
        "colab_type": "code",
        "colab": {
          "base_uri": "https://localhost:8080/",
          "height": 72
        },
        "outputId": "458defb5-39db-40da-f7ed-53935e36d1dd"
      },
      "cell_type": "code",
      "source": [
        "# Create Linear Regression Model, and print out the parameters\n",
        "\n",
        "lr = Linear(in_features=1, out_features=1, bias=True)\n",
        "print(\"Parameters w and b: \", list(lr.parameters()))"
      ],
      "execution_count": 15,
      "outputs": [
        {
          "output_type": "stream",
          "text": [
            "Parameters w and b:  [Parameter containing:\n",
            "tensor([[0.5153]], requires_grad=True), Parameter containing:\n",
            "tensor([-0.4414], requires_grad=True)]\n"
          ],
          "name": "stdout"
        }
      ]
    },
    {
      "metadata": {
        "id": "OVilu6FFJxig",
        "colab_type": "text"
      },
      "cell_type": "markdown",
      "source": [
        "This is equivalent to the following expression:  "
      ]
    },
    {
      "metadata": {
        "id": "EO6hBKVlJxik",
        "colab_type": "text"
      },
      "cell_type": "markdown",
      "source": [
        "$b=-0.44, w=0.5153$\n",
        "\n",
        "$\\hat{y}=-0.44+0.5153x$"
      ]
    },
    {
      "metadata": {
        "id": "8jfJUTJoJxio",
        "colab_type": "text"
      },
      "cell_type": "markdown",
      "source": [
        "Now let us make a single prediction at <i>x = [[1.0]]</i>."
      ]
    },
    {
      "metadata": {
        "id": "tPJfBVJgJxiq",
        "colab_type": "code",
        "colab": {
          "base_uri": "https://localhost:8080/",
          "height": 36
        },
        "outputId": "a7e46cf1-b94b-477d-eb30-fcedbcfc0c11"
      },
      "cell_type": "code",
      "source": [
        "# Make the prediction at x = [[1.0]]\n",
        "\n",
        "x = torch.tensor([[1.0]])\n",
        "yhat = lr(x)\n",
        "print(\"The prediction: \", yhat)"
      ],
      "execution_count": 16,
      "outputs": [
        {
          "output_type": "stream",
          "text": [
            "The prediction:  tensor([[0.0739]], grad_fn=<AddmmBackward>)\n"
          ],
          "name": "stdout"
        }
      ]
    },
    {
      "metadata": {
        "id": "89vhdh1HJxi6",
        "colab_type": "text"
      },
      "cell_type": "markdown",
      "source": [
        "<!--Empty Space for separating topics-->"
      ]
    },
    {
      "metadata": {
        "id": "zHBSQUdsJxi8",
        "colab_type": "text"
      },
      "cell_type": "markdown",
      "source": [
        "Similarly, you can make multiple predictions:"
      ]
    },
    {
      "metadata": {
        "id": "8gQREYGBJxi_",
        "colab_type": "text"
      },
      "cell_type": "markdown",
      "source": [
        "<img src=\"https://s3-api.us-geo.objectstorage.softlayer.net/cf-courses-data/CognitiveClass/DL0110EN/notebook_images%20/chapter2/2.1.2vector_function.png\" width=\"500\" alt=\"Linear Class Sample with Multiple Inputs\" />"
      ]
    },
    {
      "metadata": {
        "id": "xMtkAAOPJxjG",
        "colab_type": "text"
      },
      "cell_type": "markdown",
      "source": [
        "Use model <code>lr(x)</code> to predict the result."
      ]
    },
    {
      "metadata": {
        "id": "zeI1y0euJxjJ",
        "colab_type": "code",
        "colab": {
          "base_uri": "https://localhost:8080/",
          "height": 54
        },
        "outputId": "53f8d09b-6437-4781-8ae0-18cdc4f7893c"
      },
      "cell_type": "code",
      "source": [
        "# Create the prediction using linear model\n",
        "\n",
        "x = torch.tensor([[1.0], [2.0]])\n",
        "yhat = lr(x)\n",
        "print(\"The prediction: \", yhat)"
      ],
      "execution_count": 17,
      "outputs": [
        {
          "output_type": "stream",
          "text": [
            "The prediction:  tensor([[0.0739],\n",
            "        [0.5891]], grad_fn=<AddmmBackward>)\n"
          ],
          "name": "stdout"
        }
      ]
    },
    {
      "metadata": {
        "id": "BKlzzCrOJxjP",
        "colab_type": "text"
      },
      "cell_type": "markdown",
      "source": [
        "<!--Empty Space for separating topics-->"
      ]
    },
    {
      "metadata": {
        "id": "GkzL9gVLJxjR",
        "colab_type": "text"
      },
      "cell_type": "markdown",
      "source": [
        "<h3>Practice</h3>"
      ]
    },
    {
      "metadata": {
        "id": "R9ji7LayJxjU",
        "colab_type": "text"
      },
      "cell_type": "markdown",
      "source": [
        "Make a prediction of the following <code>x</code> tensor using the linear regression model <code>lr</code>."
      ]
    },
    {
      "metadata": {
        "id": "emdbEwAkJxjW",
        "colab_type": "code",
        "colab": {
          "base_uri": "https://localhost:8080/",
          "height": 72
        },
        "outputId": "6516a28c-5de7-48db-af93-1966e39ecb49"
      },
      "cell_type": "code",
      "source": [
        "# Practice: Use the linear regression model object lr to make the prediction.\n",
        "\n",
        "x = torch.tensor([[1.0],[2.0],[3.0]])\n",
        "yhat = lr(x)\n",
        "print(\"The predicted values: \", yhat)"
      ],
      "execution_count": 19,
      "outputs": [
        {
          "output_type": "stream",
          "text": [
            "The predicted values:  tensor([[0.0739],\n",
            "        [0.5891],\n",
            "        [1.1044]], grad_fn=<AddmmBackward>)\n"
          ],
          "name": "stdout"
        }
      ]
    },
    {
      "metadata": {
        "id": "Gpsnzww1Jxjb",
        "colab_type": "text"
      },
      "cell_type": "markdown",
      "source": [
        "Double-click <b>here</b> for the solution.\n",
        "\n",
        "<!-- Your answer is below:\n",
        "x=torch.tensor([[1.0],[2.0],[3.0]])\n",
        "yhat = lr(x)\n",
        "print(\"The prediction: \", yhat)\n",
        "-->"
      ]
    },
    {
      "metadata": {
        "id": "y7cp8AxEJxjd",
        "colab_type": "text"
      },
      "cell_type": "markdown",
      "source": [
        "<!--Empty Space for separating topics-->"
      ]
    },
    {
      "metadata": {
        "id": "m-VZNt5YJxjf",
        "colab_type": "text"
      },
      "cell_type": "markdown",
      "source": [
        "<h2 id=\"Cust\">Build Custom Modules</h2>"
      ]
    },
    {
      "metadata": {
        "id": "mD_QO4_9Jxji",
        "colab_type": "text"
      },
      "cell_type": "markdown",
      "source": [
        "Now, let's build a custom module. We can make more complex models by using this method later on. "
      ]
    },
    {
      "metadata": {
        "id": "HB3s4-cuJxjm",
        "colab_type": "text"
      },
      "cell_type": "markdown",
      "source": [
        "First, import the following library."
      ]
    },
    {
      "metadata": {
        "id": "UTVZlMJdJxjr",
        "colab_type": "code",
        "colab": {}
      },
      "cell_type": "code",
      "source": [
        "# Library for this section\n",
        "\n",
        "from torch import nn"
      ],
      "execution_count": 0,
      "outputs": []
    },
    {
      "metadata": {
        "id": "Y9a98hcEJxjx",
        "colab_type": "text"
      },
      "cell_type": "markdown",
      "source": [
        "Now, let us define the class: "
      ]
    },
    {
      "metadata": {
        "id": "piTnrkdWJxj2",
        "colab_type": "code",
        "colab": {}
      },
      "cell_type": "code",
      "source": [
        "# Customize Linear Regression Class\n",
        "\n",
        "class LR(nn.Module):\n",
        "    \n",
        "    # Constructor\n",
        "    def __init__(self, input_size, output_size):\n",
        "        \n",
        "        # Inherit from parent\n",
        "        super(LR, self).__init__()\n",
        "        self.linear = nn.Linear(input_size, output_size)\n",
        "    \n",
        "    # Prediction function\n",
        "    def forward(self, x):\n",
        "        out = self.linear(x)\n",
        "        return out"
      ],
      "execution_count": 0,
      "outputs": []
    },
    {
      "metadata": {
        "id": "dizK3kOSJxj-",
        "colab_type": "text"
      },
      "cell_type": "markdown",
      "source": [
        "Create an object by using the constructor. Print out the parameters we get and the model."
      ]
    },
    {
      "metadata": {
        "id": "uTdXkdRDJxkA",
        "colab_type": "code",
        "colab": {
          "base_uri": "https://localhost:8080/",
          "height": 90
        },
        "outputId": "a8627de1-f81a-46c4-beec-4e49abdc64df"
      },
      "cell_type": "code",
      "source": [
        "# Create the linear regression model. Print out the parameters.\n",
        "\n",
        "lr = LR(1, 1)\n",
        "print(\"The parameters: \", list(lr.parameters()))\n",
        "print(\"Linear model: \", lr.linear)"
      ],
      "execution_count": 29,
      "outputs": [
        {
          "output_type": "stream",
          "text": [
            "The parameters:  [Parameter containing:\n",
            "tensor([[0.1449]], requires_grad=True), Parameter containing:\n",
            "tensor([-0.0040], requires_grad=True)]\n",
            "Linear model:  Linear(in_features=1, out_features=1, bias=True)\n"
          ],
          "name": "stdout"
        }
      ]
    },
    {
      "metadata": {
        "id": "K1ifV4xXJxkG",
        "colab_type": "text"
      },
      "cell_type": "markdown",
      "source": [
        "<!--Empty Space for separating topics-->"
      ]
    },
    {
      "metadata": {
        "id": "TCRvjMdIJxkI",
        "colab_type": "text"
      },
      "cell_type": "markdown",
      "source": [
        "Let us try to make a prediction of a single input sample."
      ]
    },
    {
      "metadata": {
        "id": "otLh3y-5JxkK",
        "colab_type": "code",
        "colab": {
          "base_uri": "https://localhost:8080/",
          "height": 36
        },
        "outputId": "22c2638f-0718-48ea-e5ad-db7b7354f833"
      },
      "cell_type": "code",
      "source": [
        "# Try our customize linear regression model with single input\n",
        "\n",
        "x = torch.tensor([[1.0]])\n",
        "yhat = lr(x)\n",
        "print(\"The prediction: \", yhat)"
      ],
      "execution_count": 30,
      "outputs": [
        {
          "output_type": "stream",
          "text": [
            "The prediction:  tensor([[0.1409]], grad_fn=<AddmmBackward>)\n"
          ],
          "name": "stdout"
        }
      ]
    },
    {
      "metadata": {
        "id": "-WjEI7sBJxkR",
        "colab_type": "text"
      },
      "cell_type": "markdown",
      "source": [
        "<!--Empty Space for separating topics-->"
      ]
    },
    {
      "metadata": {
        "id": "GVVL71h2JxkT",
        "colab_type": "text"
      },
      "cell_type": "markdown",
      "source": [
        "Now, let us try another example with multiple samples."
      ]
    },
    {
      "metadata": {
        "id": "qttml5GYJxke",
        "colab_type": "code",
        "colab": {
          "base_uri": "https://localhost:8080/",
          "height": 54
        },
        "outputId": "e869ceee-b07d-4914-d8e0-ef67aaea100b"
      },
      "cell_type": "code",
      "source": [
        "# Try our customize linear regression model with multiple input\n",
        "\n",
        "x = torch.tensor([[1.0], [2.0]])\n",
        "yhat = lr(x)\n",
        "print(\"The prediction: \", yhat)"
      ],
      "execution_count": 31,
      "outputs": [
        {
          "output_type": "stream",
          "text": [
            "The prediction:  tensor([[0.1409],\n",
            "        [0.2859]], grad_fn=<AddmmBackward>)\n"
          ],
          "name": "stdout"
        }
      ]
    },
    {
      "metadata": {
        "id": "SomlfNH4Jxkp",
        "colab_type": "text"
      },
      "cell_type": "markdown",
      "source": [
        "<!--Empty Space for separating topics-->"
      ]
    },
    {
      "metadata": {
        "id": "qqQDxsgRJxku",
        "colab_type": "text"
      },
      "cell_type": "markdown",
      "source": [
        "<h3>Practice</h3>"
      ]
    },
    {
      "metadata": {
        "id": "gexcsSY8Jxkw",
        "colab_type": "text"
      },
      "cell_type": "markdown",
      "source": [
        "Create an object <code>lr1</code> from the class we created before and make a prediction by using the following tensor: "
      ]
    },
    {
      "metadata": {
        "id": "RUL-u5GOJxky",
        "colab_type": "code",
        "colab": {
          "base_uri": "https://localhost:8080/",
          "height": 72
        },
        "outputId": "db197ad6-e4e0-4ac4-dd3b-834de918b0b5"
      },
      "cell_type": "code",
      "source": [
        "# Practice: Use the LR class to create a model and make a prediction of the following tensor.\n",
        "\n",
        "x = torch.tensor([[1.0], [2.0], [3.0]])\n",
        "yhat = lr(x)\n",
        "print(\"Predicted values: \", yhat)"
      ],
      "execution_count": 32,
      "outputs": [
        {
          "output_type": "stream",
          "text": [
            "Predicted values:  tensor([[0.1409],\n",
            "        [0.2859],\n",
            "        [0.4308]], grad_fn=<AddmmBackward>)\n"
          ],
          "name": "stdout"
        }
      ]
    },
    {
      "metadata": {
        "id": "7KM2fSSeJxk4",
        "colab_type": "text"
      },
      "cell_type": "markdown",
      "source": [
        "Double-click <b>here</b> for the solution.\n",
        "\n",
        "<!-- Your answer is below:\n",
        "x=torch.tensor([[1.0],[2.0],[3.0]])\n",
        "lr1=LR(1,1)\n",
        "yhat=lr(x)\n",
        "yhat\n",
        "-->"
      ]
    },
    {
      "metadata": {
        "id": "OHH2l67bJxk_",
        "colab_type": "text"
      },
      "cell_type": "markdown",
      "source": [
        " <!-- Your answer is below:\n",
        "x=torch.tensor([[1.0],[2.0],[3.0]])\n",
        "lr1=LR(1,1)\n",
        "yhat=lr1(x)\n",
        "yhat\n",
        "-->"
      ]
    },
    {
      "metadata": {
        "id": "ACCZs1PbJxlB",
        "colab_type": "text"
      },
      "cell_type": "markdown",
      "source": [
        "<a href=\"http://cocl.us/pytorch_link_bottom\">\n",
        "    <img src=\"https://s3-api.us-geo.objectstorage.softlayer.net/cf-courses-data/CognitiveClass/DL0110EN/notebook_images%20/notebook_bottom%20.png\" width=\"750\" alt=\"PyTorch Bottom\" />\n",
        "</a>"
      ]
    },
    {
      "metadata": {
        "id": "HIWYw0cGJxlD",
        "colab_type": "text"
      },
      "cell_type": "markdown",
      "source": [
        "<h2>About the Authors:</h2> \n",
        "\n",
        "<a href=\"https://www.linkedin.com/in/joseph-s-50398b136/\">Joseph Santarcangelo</a> has a PhD in Electrical Engineering, his research focused on using machine learning, signal processing, and computer vision to determine how videos impact human cognition. Joseph has been working for IBM since he completed his PhD."
      ]
    },
    {
      "metadata": {
        "id": "j2nlJbINJxlL",
        "colab_type": "text"
      },
      "cell_type": "markdown",
      "source": [
        "Other contributors: <a href=\"https://www.linkedin.com/in/michelleccarey/\">Michelle Carey</a>, <a href=\"www.linkedin.com/in/jiahui-mavis-zhou-a4537814a\">Mavis Zhou</a> "
      ]
    },
    {
      "metadata": {
        "id": "lPmNW5kkJxlQ",
        "colab_type": "text"
      },
      "cell_type": "markdown",
      "source": [
        "<hr>"
      ]
    },
    {
      "metadata": {
        "id": "AONUMLq1JxlS",
        "colab_type": "text"
      },
      "cell_type": "markdown",
      "source": [
        "Copyright &copy; 2018 <a href=\"cognitiveclass.ai?utm_source=bducopyrightlink&utm_medium=dswb&utm_campaign=bdu\">cognitiveclass.ai</a>. This notebook and its source code are released under the terms of the <a href=\"https://bigdatauniversity.com/mit-license/\">MIT License</a>."
      ]
    }
  ]
}