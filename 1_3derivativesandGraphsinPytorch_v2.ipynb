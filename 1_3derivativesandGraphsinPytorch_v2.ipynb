{
  "nbformat": 4,
  "nbformat_minor": 0,
  "metadata": {
    "colab": {
      "name": "1.3derivativesandGraphsinPytorch_v2.ipynb",
      "version": "0.3.2",
      "provenance": [],
      "include_colab_link": true
    },
    "kernelspec": {
      "display_name": "Python 3",
      "language": "python",
      "name": "python3"
    }
  },
  "cells": [
    {
      "cell_type": "markdown",
      "metadata": {
        "id": "view-in-github",
        "colab_type": "text"
      },
      "source": [
        "<a href=\"https://colab.research.google.com/github/hbeychaner/IBM-DL0110EN/blob/master/1_3derivativesandGraphsinPytorch_v2.ipynb\" target=\"_parent\"><img src=\"https://colab.research.google.com/assets/colab-badge.svg\" alt=\"Open In Colab\"/></a>"
      ]
    },
    {
      "metadata": {
        "id": "gfPMoP_aP_CL",
        "colab_type": "text"
      },
      "cell_type": "markdown",
      "source": [
        "<a href=\"http://cocl.us/pytorch_link_top\">\n",
        "    <img src=\"https://s3-api.us-geo.objectstorage.softlayer.net/cf-courses-data/CognitiveClass/DL0110EN/notebook_images%20/Pytochtop.png\" width=\"750\" alt=\"IBM Product \" />\n",
        "</a> "
      ]
    },
    {
      "metadata": {
        "id": "9H1xyN0wP_CP",
        "colab_type": "text"
      },
      "cell_type": "markdown",
      "source": [
        "<img src=\"https://s3-api.us-geo.objectstorage.softlayer.net/cf-courses-data/CognitiveClass/DL0110EN/notebook_images%20/cc-logo-square.png\" width=\"200\" alt=\"cognitiveclass.ai logo\" />"
      ]
    },
    {
      "metadata": {
        "id": "Mev07AeeP_CS",
        "colab_type": "text"
      },
      "cell_type": "markdown",
      "source": [
        "<h1>Differentiation in PyTorch</h1> "
      ]
    },
    {
      "metadata": {
        "id": "KgP7dzDmP_CU",
        "colab_type": "text"
      },
      "cell_type": "markdown",
      "source": [
        "<h2>Table of Contents</h2>\n",
        "\n",
        "<p>In this lab, you will learn the basics of differentiation.</p> \n",
        "\n",
        "<ul>\n",
        "    <li><a href=\"#Derivative\">Derivatives</a></li>\n",
        "    <li><a href=\"#Partial_Derivative\">Partial Derivatives</a></li>\n",
        "</ul>\n",
        "\n",
        "<p>Estimated Time Needed: <strong>25 min</strong></p>\n",
        "<hr>"
      ]
    },
    {
      "metadata": {
        "id": "g4R1F7cLP_CW",
        "colab_type": "text"
      },
      "cell_type": "markdown",
      "source": [
        "<h2>Preparation</h2>"
      ]
    },
    {
      "metadata": {
        "id": "O3taL9CrP_Ca",
        "colab_type": "text"
      },
      "cell_type": "markdown",
      "source": [
        "The following are the libraries we are going to use for this lab."
      ]
    },
    {
      "metadata": {
        "id": "OVjtXskNP_Cc",
        "colab_type": "code",
        "colab": {}
      },
      "cell_type": "code",
      "source": [
        "# These are the libraries will be useing for this lab.\n",
        "\n",
        "import torch \n",
        "import matplotlib.pylab as plt\n",
        "import torch.functional as F"
      ],
      "execution_count": 0,
      "outputs": []
    },
    {
      "metadata": {
        "id": "_b-6IT0YP_Cl",
        "colab_type": "text"
      },
      "cell_type": "markdown",
      "source": [
        "<!--Empty Space for separating topics-->"
      ]
    },
    {
      "metadata": {
        "id": "_GxutXFiP_Cn",
        "colab_type": "text"
      },
      "cell_type": "markdown",
      "source": [
        "<h2 id=\"Derivative\">Derivatives</h2>"
      ]
    },
    {
      "metadata": {
        "id": "oaYkSjYQP_Cq",
        "colab_type": "text"
      },
      "cell_type": "markdown",
      "source": [
        "Let us create the tensor <code>x</code> and set the parameter <code>requires_grad</code> to true because you are going to take the derivative of the tensor."
      ]
    },
    {
      "metadata": {
        "id": "hczydDj1P_Ct",
        "colab_type": "code",
        "colab": {
          "base_uri": "https://localhost:8080/",
          "height": 36
        },
        "outputId": "697a2e93-df10-49e6-d767-ed5b9bf3af26"
      },
      "cell_type": "code",
      "source": [
        "# Create a tensor x\n",
        "\n",
        "x = torch.tensor(2.0, requires_grad = True)\n",
        "print(\"The tensor x: \", x)"
      ],
      "execution_count": 2,
      "outputs": [
        {
          "output_type": "stream",
          "text": [
            "The tensor x:  tensor(2., requires_grad=True)\n"
          ],
          "name": "stdout"
        }
      ]
    },
    {
      "metadata": {
        "id": "-Ryw8mBLP_C5",
        "colab_type": "text"
      },
      "cell_type": "markdown",
      "source": [
        "Then let us create a tensor according to the equation $ y=x^2 $."
      ]
    },
    {
      "metadata": {
        "id": "JwB0N3GfP_C7",
        "colab_type": "code",
        "colab": {
          "base_uri": "https://localhost:8080/",
          "height": 36
        },
        "outputId": "296010d8-f485-4c2c-ecc8-f31784867e7d"
      },
      "cell_type": "code",
      "source": [
        "# Create a tensor y according to y = x^2\n",
        "\n",
        "y = x ** 2\n",
        "print(\"The result of y = x^2: \", y)"
      ],
      "execution_count": 3,
      "outputs": [
        {
          "output_type": "stream",
          "text": [
            "The result of y = x^2:  tensor(4., grad_fn=<PowBackward0>)\n"
          ],
          "name": "stdout"
        }
      ]
    },
    {
      "metadata": {
        "id": "q3MeGarUP_DD",
        "colab_type": "text"
      },
      "cell_type": "markdown",
      "source": [
        "Then let us take the derivative with respect x at x = 2"
      ]
    },
    {
      "metadata": {
        "id": "fnR8oFv5P_DG",
        "colab_type": "code",
        "colab": {
          "base_uri": "https://localhost:8080/",
          "height": 36
        },
        "outputId": "32739e84-0ebe-410e-a1c4-c73afbd8e2fc"
      },
      "cell_type": "code",
      "source": [
        "# Take the derivative. Try to print out the derivative at the value x = 2\n",
        "\n",
        "y.backward()\n",
        "print(\"The dervative at x = 2: \", x.grad)"
      ],
      "execution_count": 4,
      "outputs": [
        {
          "output_type": "stream",
          "text": [
            "The dervative at x = 2:  tensor(4.)\n"
          ],
          "name": "stdout"
        }
      ]
    },
    {
      "metadata": {
        "id": "N5xEVr4tP_DO",
        "colab_type": "text"
      },
      "cell_type": "markdown",
      "source": [
        "The preceding lines perform the following operation: "
      ]
    },
    {
      "metadata": {
        "id": "gSb5wcHWP_DT",
        "colab_type": "text"
      },
      "cell_type": "markdown",
      "source": [
        "$\\frac{\\mathrm{dy(x)}}{\\mathrm{dx}}=2x$"
      ]
    },
    {
      "metadata": {
        "id": "5Sw1MTcuP_DW",
        "colab_type": "text"
      },
      "cell_type": "markdown",
      "source": [
        "$\\frac{\\mathrm{dy(x=2)}}{\\mathrm{dx}}=2(2)=4$"
      ]
    },
    {
      "metadata": {
        "id": "0iHZW53UP_DY",
        "colab_type": "text"
      },
      "cell_type": "markdown",
      "source": [
        "Let us try to calculate the derivative for a more complicated function. "
      ]
    },
    {
      "metadata": {
        "id": "EoChUaEcP_Dc",
        "colab_type": "code",
        "colab": {
          "base_uri": "https://localhost:8080/",
          "height": 54
        },
        "outputId": "1d782b71-336f-4446-eb25-fbf9810925fb"
      },
      "cell_type": "code",
      "source": [
        "# Calculate the y = x^2 + 2x + 1, then find the derivative \n",
        "\n",
        "x = torch.tensor(2.0, requires_grad = True)\n",
        "y = x ** 2 + 2 * x + 1\n",
        "print(\"The result of y = x^2 + 2x + 1: \", y)\n",
        "y.backward()\n",
        "print(\"The dervative at x = 2: \", x.grad)"
      ],
      "execution_count": 5,
      "outputs": [
        {
          "output_type": "stream",
          "text": [
            "The result of y = x^2 + 2x + 1:  tensor(9., grad_fn=<AddBackward0>)\n",
            "The dervative at x = 2:  tensor(6.)\n"
          ],
          "name": "stdout"
        }
      ]
    },
    {
      "metadata": {
        "id": "bWsqt6wiP_Dn",
        "colab_type": "text"
      },
      "cell_type": "markdown",
      "source": [
        "The function is in the following form:\n",
        "$y=x^{2}+2x+1$"
      ]
    },
    {
      "metadata": {
        "id": "NV6LbnEgP_Dp",
        "colab_type": "text"
      },
      "cell_type": "markdown",
      "source": [
        "The derivative is given by:\n"
      ]
    },
    {
      "metadata": {
        "id": "8jDecx79P_Ds",
        "colab_type": "text"
      },
      "cell_type": "markdown",
      "source": [
        "$\\frac{\\mathrm{dy(x)}}{\\mathrm{dx}}=2x+2$\n",
        "\n",
        "$\\frac{\\mathrm{dy(x=2)}}{\\mathrm{dx}}=2(2)+2=6$"
      ]
    },
    {
      "metadata": {
        "id": "NgkUup6YP_D6",
        "colab_type": "text"
      },
      "cell_type": "markdown",
      "source": [
        "<!--Empty Space for separating topics-->"
      ]
    },
    {
      "metadata": {
        "id": "vg6L-dzMP_EA",
        "colab_type": "text"
      },
      "cell_type": "markdown",
      "source": [
        "<h3>Practice</h3>"
      ]
    },
    {
      "metadata": {
        "id": "B7cc8ld9P_EG",
        "colab_type": "text"
      },
      "cell_type": "markdown",
      "source": [
        "Determine the derivative of $ y = 2x^3+x $ at $x=1$"
      ]
    },
    {
      "metadata": {
        "id": "dIhu30rZP_EJ",
        "colab_type": "code",
        "colab": {
          "base_uri": "https://localhost:8080/",
          "height": 54
        },
        "outputId": "25c11ce4-082b-46e3-9bab-1e57a7eff39b"
      },
      "cell_type": "code",
      "source": [
        "# Practice: Calculate the derivative of y = 2x^3 + x at x = 1\n",
        "x = torch.tensor(1.0, requires_grad = True)\n",
        "y = 2 * x ** 3 + x\n",
        "y.backward()\n",
        "print(\"The value of the function at x = 1: \", y)\n",
        "print(\"The derivative of y with respect to x: \", x.grad)"
      ],
      "execution_count": 10,
      "outputs": [
        {
          "output_type": "stream",
          "text": [
            "The value of the function at x = 1:  tensor(3., grad_fn=<AddBackward0>)\n",
            "The derivative of y with respect to x:  tensor(7.)\n"
          ],
          "name": "stdout"
        }
      ]
    },
    {
      "metadata": {
        "id": "7REnLg_UP_ES",
        "colab_type": "text"
      },
      "cell_type": "markdown",
      "source": [
        "Double-click <b>here</b> for the solution.\n",
        "<!-- \n",
        "x = torch.tensor(1.0, requires_grad=True)\n",
        "y = 2 * x ** 3 + x\n",
        "y.backward()\n",
        "print(\"The derivative result: \", x.grad)\n",
        " -->"
      ]
    },
    {
      "metadata": {
        "id": "9sCis9hLP_EU",
        "colab_type": "text"
      },
      "cell_type": "markdown",
      "source": [
        "<!--Empty Space for separating topics-->"
      ]
    },
    {
      "metadata": {
        "id": "skB05NncP_EW",
        "colab_type": "text"
      },
      "cell_type": "markdown",
      "source": [
        "<h2 id=\"Partial_Derivative\">Partial Derivatives</h2>"
      ]
    },
    {
      "metadata": {
        "id": "tUQs2679P_EY",
        "colab_type": "text"
      },
      "cell_type": "markdown",
      "source": [
        "We can also calculate <b>Partial Derivatives</b>. Consider the function: $f(u,v)=vu+u^{2}$"
      ]
    },
    {
      "metadata": {
        "id": "p4lChQJnP_Ea",
        "colab_type": "text"
      },
      "cell_type": "markdown",
      "source": [
        "Let us create <code>u</code> tensor, <code>v</code> tensor and  <code>f</code> tensor"
      ]
    },
    {
      "metadata": {
        "id": "iUpPI6-bP_Ed",
        "colab_type": "code",
        "colab": {
          "base_uri": "https://localhost:8080/",
          "height": 36
        },
        "outputId": "5dea0d98-9d3b-41e3-85b5-799b4b9a0ff9"
      },
      "cell_type": "code",
      "source": [
        "# Calculate f(u, v) = v * u + u^2 at u = 1, v = 2\n",
        "\n",
        "u = torch.tensor(1.0,requires_grad=True)\n",
        "v = torch.tensor(2.0,requires_grad=True)\n",
        "f = u * v + u ** 2\n",
        "print(\"The result of v * u + u^2: \", f)"
      ],
      "execution_count": 16,
      "outputs": [
        {
          "output_type": "stream",
          "text": [
            "The result of v * u + u^2:  tensor(3., grad_fn=<AddBackward0>)\n"
          ],
          "name": "stdout"
        }
      ]
    },
    {
      "metadata": {
        "id": "rafoA70yP_Ek",
        "colab_type": "text"
      },
      "cell_type": "markdown",
      "source": [
        "This is equivalent to the following: "
      ]
    },
    {
      "metadata": {
        "id": "e5QQhVQXP_En",
        "colab_type": "text"
      },
      "cell_type": "markdown",
      "source": [
        "$f(u=1,v=2)=(2)(1)+1^{2}=3$"
      ]
    },
    {
      "metadata": {
        "id": "hPurCf45P_Ep",
        "colab_type": "text"
      },
      "cell_type": "markdown",
      "source": [
        "<!--Empty Space for separating topics-->"
      ]
    },
    {
      "metadata": {
        "id": "TVw9aYIfP_Er",
        "colab_type": "text"
      },
      "cell_type": "markdown",
      "source": [
        "Now let us take the derivative with respect to <code>u</code>:"
      ]
    },
    {
      "metadata": {
        "id": "seehJwL0P_Et",
        "colab_type": "code",
        "colab": {
          "base_uri": "https://localhost:8080/",
          "height": 36
        },
        "outputId": "541fec00-40a5-4fd1-d7e8-384b458bdbb0"
      },
      "cell_type": "code",
      "source": [
        "# Calculate the derivative with respect to u\n",
        "\n",
        "f.backward()\n",
        "print(\"The partial derivative with respect to u: \", u.grad)"
      ],
      "execution_count": 17,
      "outputs": [
        {
          "output_type": "stream",
          "text": [
            "The partial derivative with respect to u:  tensor(4.)\n"
          ],
          "name": "stdout"
        }
      ]
    },
    {
      "metadata": {
        "id": "dL_gWsnqP_E5",
        "colab_type": "text"
      },
      "cell_type": "markdown",
      "source": [
        "the expression is given by:"
      ]
    },
    {
      "metadata": {
        "id": "0ai-1oBFP_E-",
        "colab_type": "text"
      },
      "cell_type": "markdown",
      "source": [
        "$\\frac{\\mathrm{\\partial f(u,v)}}{\\partial {u}}=v+2u$\n",
        "\n",
        "$\\frac{\\mathrm{\\partial f(u=1,v=2)}}{\\partial {u}}=2+2(1)=4$"
      ]
    },
    {
      "metadata": {
        "id": "XYadq3Y7P_FB",
        "colab_type": "text"
      },
      "cell_type": "markdown",
      "source": [
        "<!--Empty Space for separating topics-->"
      ]
    },
    {
      "metadata": {
        "id": "vKjZxLHsP_FE",
        "colab_type": "text"
      },
      "cell_type": "markdown",
      "source": [
        "Now, take the derivative with respect to <code>v</code>:"
      ]
    },
    {
      "metadata": {
        "id": "q_iqJLLVP_FH",
        "colab_type": "code",
        "colab": {
          "base_uri": "https://localhost:8080/",
          "height": 36
        },
        "outputId": "153e881d-76d7-44ca-be0c-159f2a0f9c00"
      },
      "cell_type": "code",
      "source": [
        "# Calculate the derivative with respect to v\n",
        "\n",
        "print(\"The partial derivative with respect to v: \", v.grad)"
      ],
      "execution_count": 19,
      "outputs": [
        {
          "output_type": "stream",
          "text": [
            "The partial derivative with respect to v:  tensor(1.)\n"
          ],
          "name": "stdout"
        }
      ]
    },
    {
      "metadata": {
        "id": "42R_qZ3DP_FN",
        "colab_type": "text"
      },
      "cell_type": "markdown",
      "source": [
        "The equation is given by:"
      ]
    },
    {
      "metadata": {
        "id": "mI-3bDjIP_FR",
        "colab_type": "text"
      },
      "cell_type": "markdown",
      "source": [
        "$\\frac{\\mathrm{\\partial f(u,v)}}{\\partial {v}}=u$\n",
        "\n",
        "$\\frac{\\mathrm{\\partial f(u=1,v=2)}}{\\partial {v}}=1$"
      ]
    },
    {
      "metadata": {
        "id": "y2DXGQQbP_FY",
        "colab_type": "text"
      },
      "cell_type": "markdown",
      "source": [
        "<!--Empty Space for separating topics-->"
      ]
    },
    {
      "metadata": {
        "id": "WlYnLxBhP_Fb",
        "colab_type": "text"
      },
      "cell_type": "markdown",
      "source": [
        "Calculate the derivative with respect to a function with multiple values as follows. You use the sum trick to produce a scalar valued function and then take the gradient: "
      ]
    },
    {
      "metadata": {
        "id": "6B3dqWvpP_Fd",
        "colab_type": "code",
        "colab": {}
      },
      "cell_type": "code",
      "source": [
        "# Calculate the derivative with multiple values\n",
        "\n",
        "x = torch.linspace(-10, 10, 10, requires_grad = True)\n",
        "Y = x ** 2\n",
        "y = torch.sum(x ** 2)"
      ],
      "execution_count": 0,
      "outputs": []
    },
    {
      "metadata": {
        "id": "2R0j1ObzP_Fl",
        "colab_type": "text"
      },
      "cell_type": "markdown",
      "source": [
        "We can plot the function  and its derivative "
      ]
    },
    {
      "metadata": {
        "id": "_oynNicKP_Fn",
        "colab_type": "code",
        "colab": {
          "base_uri": "https://localhost:8080/",
          "height": 279
        },
        "outputId": "45371784-5dd0-4a1d-d779-3b25b14d1eb2"
      },
      "cell_type": "code",
      "source": [
        "# Take the derivative with respect to multiple value. Plot out the function and its derivative\n",
        "\n",
        "y.backward()\n",
        "\n",
        "plt.plot(x.detach().numpy(), Y.detach().numpy(), label = 'function')\n",
        "plt.plot(x.detach().numpy(), x.grad.detach().numpy(), label = 'derivative')\n",
        "plt.xlabel('x')\n",
        "plt.legend()\n",
        "plt.show()"
      ],
      "execution_count": 26,
      "outputs": [
        {
          "output_type": "display_data",
          "data": {
            "image/png": "[encoded data removed]",
            "text/plain": [
              "<Figure size 432x288 with 1 Axes>"
            ]
          },
          "metadata": {
            "tags": []
          }
        }
      ]
    },
    {
      "metadata": {
        "id": "8gfcd061P_Fv",
        "colab_type": "text"
      },
      "cell_type": "markdown",
      "source": [
        "The orange line is the slope of the blue line at the intersection point, which is the derivative of the blue line."
      ]
    },
    {
      "metadata": {
        "id": "ICw2zJV1P_Fx",
        "colab_type": "text"
      },
      "cell_type": "markdown",
      "source": [
        "<!--Empty Space for separating topics-->"
      ]
    },
    {
      "metadata": {
        "id": "4zp3vv6zP_F0",
        "colab_type": "text"
      },
      "cell_type": "markdown",
      "source": [
        "The <b>relu</b> activation function is an essential function in neural networks. We can take the derivative as follows: "
      ]
    },
    {
      "metadata": {
        "id": "U0k2aydXP_F3",
        "colab_type": "code",
        "colab": {}
      },
      "cell_type": "code",
      "source": [
        "import torch.nn.functional as F"
      ],
      "execution_count": 0,
      "outputs": []
    },
    {
      "metadata": {
        "id": "oBQtlA5rP_F9",
        "colab_type": "code",
        "colab": {
          "base_uri": "https://localhost:8080/",
          "height": 279
        },
        "outputId": "f1929af8-433a-4584-ae3b-d1a8853563a8"
      },
      "cell_type": "code",
      "source": [
        "# Take the derivative of Relu with respect to multiple value. Plot out the function and its derivative\n",
        "\n",
        "x = torch.linspace(-3, 3, 100, requires_grad = True)\n",
        "Y = F.relu(x)\n",
        "y = Y.sum()\n",
        "y.backward()\n",
        "plt.plot(x.detach().numpy(), Y.detach().numpy(), label = 'function')\n",
        "plt.plot(x.detach().numpy(), x.grad.detach().numpy(), label = 'derivative')f\n",
        "plt.xlabel('x')\n",
        "plt.legend()\n",
        "plt.show()"
      ],
      "execution_count": 30,
      "outputs": [
        {
          "output_type": "display_data",
          "data": {
            "image/png": "[encoded data removed]",
            "text/plain": [
              "<Figure size 432x288 with 1 Axes>"
            ]
          },
          "metadata": {
            "tags": []
          }
        }
      ]
    },
    {
      "metadata": {
        "id": "eiCD-aeCP_GH",
        "colab_type": "text"
      },
      "cell_type": "markdown",
      "source": [
        "<!--Empty Space for separating topics-->"
      ]
    },
    {
      "metadata": {
        "id": "Z0DsuFJQP_GJ",
        "colab_type": "text"
      },
      "cell_type": "markdown",
      "source": [
        "<h3>Practice</h3>"
      ]
    },
    {
      "metadata": {
        "id": "We933t6hP_GQ",
        "colab_type": "text"
      },
      "cell_type": "markdown",
      "source": [
        "Try to determine partial derivative  $u$ of the following function where $u=2$ and $v=1$: $ f=uv+(uv)^2$"
      ]
    },
    {
      "metadata": {
        "id": "EEWYllBDP_GS",
        "colab_type": "code",
        "colab": {
          "base_uri": "https://localhost:8080/",
          "height": 54
        },
        "outputId": "97ebe04b-eac7-48fb-e2e2-521ed5364f07"
      },
      "cell_type": "code",
      "source": [
        "# Practice: Calculate the derivative of f = u * v + (u * v) ** 2 at u = 2, v = 1\n",
        "\n",
        "# Type the code here\n",
        "u = torch.tensor(2.0, requires_grad=True)\n",
        "v = torch.tensor(1.0, requires_grad=True)\n",
        "f = u * v + (u * v) ** 2\n",
        "f.backward()\n",
        "print(u.grad)\n",
        "print(v.grad)\n"
      ],
      "execution_count": 35,
      "outputs": [
        {
          "output_type": "stream",
          "text": [
            "tensor(5.)\n",
            "tensor(10.)\n"
          ],
          "name": "stdout"
        }
      ]
    },
    {
      "metadata": {
        "id": "VNHbDlWbP_Gb",
        "colab_type": "text"
      },
      "cell_type": "markdown",
      "source": [
        "Double-click __here__ for the solution.\n",
        "<!-- \n",
        "u = torch.tensor(2.0, requires_grad = True)\n",
        "v = torch.tensor(1.0, requires_grad = True)\n",
        "f = u * v + (u * v) ** 2\n",
        "f.backward()\n",
        "print(\"The result is \", u.grad)\n",
        " -->"
      ]
    },
    {
      "metadata": {
        "id": "SRH8439pP_Gf",
        "colab_type": "text"
      },
      "cell_type": "markdown",
      "source": [
        "<!--Empty Space for separating topics-->"
      ]
    },
    {
      "metadata": {
        "id": "kkNpeK8LP_Gk",
        "colab_type": "text"
      },
      "cell_type": "markdown",
      "source": [
        "<a href=\"http://cocl.us/pytorch_link_bottom\">\n",
        "    <img src=\"https://s3-api.us-geo.objectstorage.softlayer.net/cf-courses-data/CognitiveClass/DL0110EN/notebook_images%20/notebook_bottom%20.png\" width=\"750\" alt=\"PyTorch Bottom\" />\n",
        "</a>"
      ]
    },
    {
      "metadata": {
        "id": "l1wNYDcXP_Gm",
        "colab_type": "text"
      },
      "cell_type": "markdown",
      "source": [
        "<h2>About the Authors:</h2> \n",
        "\n",
        "<a href=\"https://www.linkedin.com/in/joseph-s-50398b136/\">Joseph Santarcangelo</a> has a PhD in Electrical Engineering, his research focused on using machine learning, signal processing, and computer vision to determine how videos impact human cognition. Joseph has been working for IBM since he completed his PhD."
      ]
    },
    {
      "metadata": {
        "id": "acz6YVWAP_Go",
        "colab_type": "text"
      },
      "cell_type": "markdown",
      "source": [
        "Other contributors: <a href=\"https://www.linkedin.com/in/michelleccarey/\">Michelle Carey</a>, <a href=\"www.linkedin.com/in/jiahui-mavis-zhou-a4537814a\">Mavis Zhou</a> "
      ]
    },
    {
      "metadata": {
        "id": "mh7PpGFtP_Gq",
        "colab_type": "text"
      },
      "cell_type": "markdown",
      "source": [
        "<hr>"
      ]
    },
    {
      "metadata": {
        "id": "igS1OVyFP_Gs",
        "colab_type": "text"
      },
      "cell_type": "markdown",
      "source": [
        "Copyright &copy; 2018 <a href=\"cognitiveclass.ai?utm_source=bducopyrightlink&utm_medium=dswb&utm_campaign=bdu\">cognitiveclass.ai</a>. This notebook and its source code are released under the terms of the <a href=\"https://bigdatauniversity.com/mit-license/\">MIT License</a>."
      ]
    }
  ]
}