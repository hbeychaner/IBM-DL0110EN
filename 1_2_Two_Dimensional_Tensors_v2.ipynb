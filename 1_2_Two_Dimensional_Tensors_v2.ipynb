{
  "nbformat": 4,
  "nbformat_minor": 0,
  "metadata": {
    "colab": {
      "name": "1.2 Two-Dimensional Tensors_v2.ipynb",
      "version": "0.3.2",
      "provenance": [],
      "collapsed_sections": [],
      "include_colab_link": true
    },
    "kernelspec": {
      "display_name": "Python 3",
      "language": "python",
      "name": "python3"
    }
  },
  "cells": [
    {
      "cell_type": "markdown",
      "metadata": {
        "id": "view-in-github",
        "colab_type": "text"
      },
      "source": [
        "<a href=\"https://colab.research.google.com/github/hbeychaner/IBM-DL0110EN/blob/master/1_2_Two_Dimensional_Tensors_v2.ipynb\" target=\"_parent\"><img src=\"https://colab.research.google.com/assets/colab-badge.svg\" alt=\"Open In Colab\"/></a>"
      ]
    },
    {
      "metadata": {
        "id": "8h41nn_NBfZV",
        "colab_type": "text"
      },
      "cell_type": "markdown",
      "source": [
        "<a href=\"http://cocl.us/pytorch_link_top\">\n",
        "    <img src=\"https://s3-api.us-geo.objectstorage.softlayer.net/cf-courses-data/CognitiveClass/DL0110EN/notebook_images%20/Pytochtop.png\" width=\"750\" alt=\"IBM Product \" />\n",
        "</a> "
      ]
    },
    {
      "metadata": {
        "id": "tH6_wCinBfZZ",
        "colab_type": "text"
      },
      "cell_type": "markdown",
      "source": [
        "<img src=\"https://s3-api.us-geo.objectstorage.softlayer.net/cf-courses-data/CognitiveClass/DL0110EN/notebook_images%20/cc-logo-square.png\" width=\"200\" alt=\"cognitiveclass.ai logo\" />"
      ]
    },
    {
      "metadata": {
        "id": "NINUAatiBfZc",
        "colab_type": "text"
      },
      "cell_type": "markdown",
      "source": [
        "<h1>Two-Dimensional Tensors</h1>"
      ]
    },
    {
      "metadata": {
        "id": "ghJnT05XBfZf",
        "colab_type": "text"
      },
      "cell_type": "markdown",
      "source": [
        "<h2>Table of Contents</h2>"
      ]
    },
    {
      "metadata": {
        "id": "VZSK-cxiBfZi",
        "colab_type": "text"
      },
      "cell_type": "markdown",
      "source": [
        "<p>In this lab, you will learn the basics of tensor operations on 2D tensors.</p>\n",
        "<ul>\n",
        "    <li><a href=\"#Types_Shape\">Types and Shape </a></li>\n",
        "    <li><a href=\"#Index_Slice\">Indexing and Slicing</a></li>\n",
        "    <li><a href=\"#Tensor_Op\">Tensor Operations</a></li>\n",
        "</ul>\n",
        "\n",
        "<p>Estimated Time Needed: <b>10 min</b></p>\n",
        "<hr>"
      ]
    },
    {
      "metadata": {
        "id": "vjsAN2hoBfZn",
        "colab_type": "text"
      },
      "cell_type": "markdown",
      "source": [
        "<h2>Preparation</h2>"
      ]
    },
    {
      "metadata": {
        "id": "iIzQVuwZBfZp",
        "colab_type": "text"
      },
      "cell_type": "markdown",
      "source": [
        "The following are the libraries we are going to use for this lab."
      ]
    },
    {
      "metadata": {
        "id": "Bx3VFBeeBfZs",
        "colab_type": "code",
        "colab": {}
      },
      "cell_type": "code",
      "source": [
        "# These are the libraries will be used for this lab.\n",
        "\n",
        "import numpy as np \n",
        "import matplotlib.pyplot as plt\n",
        "import torch\n",
        "import pandas as pd"
      ],
      "execution_count": 0,
      "outputs": []
    },
    {
      "metadata": {
        "id": "yxVx4d2nBfZ2",
        "colab_type": "text"
      },
      "cell_type": "markdown",
      "source": [
        "<!--Empty Space for separating topics-->"
      ]
    },
    {
      "metadata": {
        "id": "66jjJiXfBfZ5",
        "colab_type": "text"
      },
      "cell_type": "markdown",
      "source": [
        "<h2 id=\"Types_Shape\">Types and Shape</h2>"
      ]
    },
    {
      "metadata": {
        "id": "UsYbd2x3BfZ8",
        "colab_type": "text"
      },
      "cell_type": "markdown",
      "source": [
        "The methods and types for 2D tensors is similar to the methods and types for 1D tensors which has been introduced in <i>Previous Lab</i>."
      ]
    },
    {
      "metadata": {
        "id": "NN047lAHBfZ_",
        "colab_type": "text"
      },
      "cell_type": "markdown",
      "source": [
        "Let us see how to convert a 2D list to a 2D tensor. First, let us create a 3X3 2D tensor. Then let us try to use <code>torch.tensor()</code> which we used for converting a 1D list to 1D tensor. Is it going to work?"
      ]
    },
    {
      "metadata": {
        "id": "o0wIvv9eBfaC",
        "colab_type": "code",
        "colab": {
          "base_uri": "https://localhost:8080/",
          "height": 72
        },
        "outputId": "c8011fb9-491c-469b-9d48-f7ce16f292f5"
      },
      "cell_type": "code",
      "source": [
        "# Convert 2D List to 2D Tensor\n",
        "\n",
        "twoD_list = [[11, 12, 13], [21, 22, 23], [31, 32, 33]]\n",
        "twoD_tensor = torch.tensor(twoD_list)\n",
        "print(\"The New 2D Tensor: \", twoD_tensor)"
      ],
      "execution_count": 4,
      "outputs": [
        {
          "output_type": "stream",
          "text": [
            "The New 2D Tensor:  tensor([[11, 12, 13],\n",
            "        [21, 22, 23],\n",
            "        [31, 32, 33]])\n"
          ],
          "name": "stdout"
        }
      ]
    },
    {
      "metadata": {
        "id": "Ql25Q-hQBw4r",
        "colab_type": "code",
        "colab": {
          "base_uri": "https://localhost:8080/",
          "height": 72
        },
        "outputId": "d533b6e0-b23e-410a-8e25-325fcfa52b58"
      },
      "cell_type": "code",
      "source": [
        "d_list = [[1, 2, 3], [2, 3, 4], [4, 5, 6]]\n",
        "d_tensor = torch.tensor(d_list)\n",
        "print(\"The New 2D Tensor: \", d_tensor)"
      ],
      "execution_count": 5,
      "outputs": [
        {
          "output_type": "stream",
          "text": [
            "The New 2D Tensor:  tensor([[1, 2, 3],\n",
            "        [2, 3, 4],\n",
            "        [4, 5, 6]])\n"
          ],
          "name": "stdout"
        }
      ]
    },
    {
      "metadata": {
        "id": "oMFxv8tyBfaK",
        "colab_type": "text"
      },
      "cell_type": "markdown",
      "source": [
        "Bravo! The method <code>torch.tensor()</code> works perfectly.Now, let us try other functions we studied in the <i>Previous Lab</i>."
      ]
    },
    {
      "metadata": {
        "id": "JYEWU34cBfaN",
        "colab_type": "text"
      },
      "cell_type": "markdown",
      "source": [
        "<!--Empty Space for separating topics-->"
      ]
    },
    {
      "metadata": {
        "id": "f6d9glhKBfaP",
        "colab_type": "text"
      },
      "cell_type": "markdown",
      "source": [
        "Let us try <code><i>tensor_obj</i>.ndimension()</code> (<code>tensor_obj</code>: This can be any tensor object), <code><i>tensor_obj</i>.shape</code>, and <code><i>tensor_obj</i>.size()</code>"
      ]
    },
    {
      "metadata": {
        "id": "njMfyO82BfaS",
        "colab_type": "code",
        "colab": {
          "base_uri": "https://localhost:8080/",
          "height": 72
        },
        "outputId": "4aaa064f-a558-47a6-d12c-114e70520010"
      },
      "cell_type": "code",
      "source": [
        "# Try tensor_obj.ndimension(), tensor_obj.shape, tensor_obj.size()\n",
        "\n",
        "print(\"The dimension of twoD_tensor: \", twoD_tensor.ndimension())\n",
        "print(\"The shape of twoD_tensor: \", twoD_tensor.shape)\n",
        "print(\"The shape of twoD_tensor: \", twoD_tensor.size())"
      ],
      "execution_count": 7,
      "outputs": [
        {
          "output_type": "stream",
          "text": [
            "The dimension of twoD_tensor:  2\n",
            "The shape of twoD_tensor:  torch.Size([3, 3])\n",
            "The shape of twoD_tensor:  torch.Size([3, 3])\n"
          ],
          "name": "stdout"
        }
      ]
    },
    {
      "metadata": {
        "id": "HCN7yE1SCP6q",
        "colab_type": "code",
        "colab": {
          "base_uri": "https://localhost:8080/",
          "height": 36
        },
        "outputId": "a52f647a-360d-4ebd-d2d0-26c32bc037e8"
      },
      "cell_type": "code",
      "source": [
        ""
      ],
      "execution_count": 11,
      "outputs": [
        {
          "output_type": "execute_result",
          "data": {
            "text/plain": [
              "2"
            ]
          },
          "metadata": {
            "tags": []
          },
          "execution_count": 11
        }
      ]
    },
    {
      "metadata": {
        "id": "zQIg4cKQBfac",
        "colab_type": "text"
      },
      "cell_type": "markdown",
      "source": [
        "Because it is a 2D 3X3 tensor,  the outputs are correct."
      ]
    },
    {
      "metadata": {
        "id": "Xp6aYWD7Bfaj",
        "colab_type": "text"
      },
      "cell_type": "markdown",
      "source": [
        "<!--Empty Space for separating topics-->"
      ]
    },
    {
      "metadata": {
        "id": "bNJsNPgxBfam",
        "colab_type": "text"
      },
      "cell_type": "markdown",
      "source": [
        "Now, let us try converting the tensor to a numpy array and convert the numpy array back to a tensor."
      ]
    },
    {
      "metadata": {
        "id": "wM1TSOHFBfar",
        "colab_type": "code",
        "colab": {
          "base_uri": "https://localhost:8080/",
          "height": 218
        },
        "outputId": "994dce32-8df1-4d2a-f1fb-323db34ffe58"
      },
      "cell_type": "code",
      "source": [
        "# Convert tensor to numpy array; Convert numpy array to tensor\n",
        "\n",
        "twoD_numpy = twoD_tensor.numpy()\n",
        "print(\"Tensor -> Numpy Array:\")\n",
        "print(\"The numpy array after converting: \", twoD_numpy)\n",
        "print(\"Type after converting: \", twoD_numpy.dtype)\n",
        "\n",
        "print(\"================================================\")\n",
        "\n",
        "new_twoD_tensor = torch.from_numpy(twoD_numpy)\n",
        "print(\"Numpy Array -> Tensor:\")\n",
        "print(\"The tensor after converting:\", new_twoD_tensor)\n",
        "print(\"Type after converting: \", new_twoD_tensor.dtype)"
      ],
      "execution_count": 13,
      "outputs": [
        {
          "output_type": "stream",
          "text": [
            "Tensor -> Numpy Array:\n",
            "The numpy array after converting:  [[11 12 13]\n",
            " [21 22 23]\n",
            " [31 32 33]]\n",
            "Type after converting:  int64\n",
            "================================================\n",
            "Numpy Array -> Tensor:\n",
            "The tensor after converting: tensor([[11, 12, 13],\n",
            "        [21, 22, 23],\n",
            "        [31, 32, 33]])\n",
            "Type after converting:  torch.int64\n"
          ],
          "name": "stdout"
        }
      ]
    },
    {
      "metadata": {
        "id": "cAa7tGWxBfa0",
        "colab_type": "text"
      },
      "cell_type": "markdown",
      "source": [
        "The result shows the tensor has successfully been converted to a numpy array and then converted back to a tensor."
      ]
    },
    {
      "metadata": {
        "id": "XMN24g88Bfa3",
        "colab_type": "text"
      },
      "cell_type": "markdown",
      "source": [
        "<!--Empty Space for separating topics-->"
      ]
    },
    {
      "metadata": {
        "id": "F77EGbkuBfa6",
        "colab_type": "text"
      },
      "cell_type": "markdown",
      "source": [
        "Now let us try to convert a Pandas Dataframe to a tensor. The process is the  Same as the 1D conversion, we can obtain the numpy array via the attribute <code>values</code>. Then, we can use <code>torch.from_numpy()</code> to convert the value of the Pandas Series to a tensor."
      ]
    },
    {
      "metadata": {
        "id": "zOCDyAApBfbE",
        "colab_type": "code",
        "colab": {
          "base_uri": "https://localhost:8080/",
          "height": 182
        },
        "outputId": "7e4de508-e463-4a7d-abdd-4073635e33f2"
      },
      "cell_type": "code",
      "source": [
        "# Try to convert the Panda Dataframe to tensor\n",
        "\n",
        "df = pd.DataFrame({'a':[11,21,31],'b':[12,22,312]})\n",
        "\n",
        "print(\"Pandas Dataframe to numpy: \", df.values)\n",
        "print(\"Type BEFORE converting: \", df.values.dtype)\n",
        "\n",
        "print(\"================================================\")\n",
        "\n",
        "new_tensor = torch.from_numpy(df.values)\n",
        "print(\"Tensor AFTER converting: \", new_tensor)\n",
        "print(\"Type AFTER converting: \", new_tensor.dtype)"
      ],
      "execution_count": 14,
      "outputs": [
        {
          "output_type": "stream",
          "text": [
            "Pandas Dataframe to numpy:  [[ 11  12]\n",
            " [ 21  22]\n",
            " [ 31 312]]\n",
            "Type BEFORE converting:  int64\n",
            "================================================\n",
            "Tensor AFTER converting:  tensor([[ 11,  12],\n",
            "        [ 21,  22],\n",
            "        [ 31, 312]])\n",
            "Type AFTER converting:  torch.int64\n"
          ],
          "name": "stdout"
        }
      ]
    },
    {
      "metadata": {
        "id": "_Ryw7xwDBfbO",
        "colab_type": "text"
      },
      "cell_type": "markdown",
      "source": [
        "<!--Empty Space for separating topics-->"
      ]
    },
    {
      "metadata": {
        "id": "8wLx4US3BfbR",
        "colab_type": "text"
      },
      "cell_type": "markdown",
      "source": [
        "<!--Empty Space for separating topics-->"
      ]
    },
    {
      "metadata": {
        "id": "A-lIZpjfBfbV",
        "colab_type": "text"
      },
      "cell_type": "markdown",
      "source": [
        "<h3>Practice</h3>"
      ]
    },
    {
      "metadata": {
        "id": "A5mra3J3BfbZ",
        "colab_type": "text"
      },
      "cell_type": "markdown",
      "source": [
        "Try to convert the following Pandas Dataframe  to a tensor"
      ]
    },
    {
      "metadata": {
        "id": "MFWsplkVBfbc",
        "colab_type": "code",
        "colab": {
          "base_uri": "https://localhost:8080/",
          "height": 127
        },
        "outputId": "f5958120-949c-462f-df8d-06d5a6c1e2bf"
      },
      "cell_type": "code",
      "source": [
        "# Practice: try to convert Pandas Series to tensor\n",
        "\n",
        "df = pd.DataFrame({'A':[11, 33, 22],'B':[3, 3, 2]})\n",
        "pd_tensor = torch.from_numpy(df.values)\n",
        "print(pd_tensor)\n",
        "df_tensor = torch.tensor(df.values)\n",
        "print(df_tensor)"
      ],
      "execution_count": 17,
      "outputs": [
        {
          "output_type": "stream",
          "text": [
            "tensor([[11,  3],\n",
            "        [33,  3],\n",
            "        [22,  2]])\n",
            "tensor([[11,  3],\n",
            "        [33,  3],\n",
            "        [22,  2]])\n"
          ],
          "name": "stdout"
        }
      ]
    },
    {
      "metadata": {
        "id": "FtyP-yqvBfbj",
        "colab_type": "text"
      },
      "cell_type": "markdown",
      "source": [
        "Double-click <b>here</b> for the solution.\n",
        "\n",
        "<!--\n",
        "converted_tensor = torch.tensor(df.values)\n",
        "print (\"Tensor: \", converted_tensor)\n",
        "-->"
      ]
    },
    {
      "metadata": {
        "id": "0YQXRS4jBfbm",
        "colab_type": "text"
      },
      "cell_type": "markdown",
      "source": [
        "<h2 id=\"Index_Slice\">Indexing and Slicing</h2>"
      ]
    },
    {
      "metadata": {
        "id": "cRh0qGC1Bfbr",
        "colab_type": "text"
      },
      "cell_type": "markdown",
      "source": [
        "You can use rectangular brackets to access the different elements of the tensor. The correspondence between the rectangular brackets and the list and the rectangular representation is shown in the following figure for a 3X3 tensor:  "
      ]
    },
    {
      "metadata": {
        "id": "iAIbOwI3Bfbt",
        "colab_type": "text"
      },
      "cell_type": "markdown",
      "source": [
        "<img src=\"https://s3-api.us-geo.objectstorage.softlayer.net/cf-courses-data/CognitiveClass/DL0110EN/notebook_images%20/chapter%201/1.2index1.png\" width=500 alt=\"Matrix Structure Introduce\">"
      ]
    },
    {
      "metadata": {
        "id": "TIECq8QtBfbw",
        "colab_type": "text"
      },
      "cell_type": "markdown",
      "source": [
        "You can access the 2nd-row 3rd-column as shown in the following figure:"
      ]
    },
    {
      "metadata": {
        "id": "pjAOo3IbBfbz",
        "colab_type": "text"
      },
      "cell_type": "markdown",
      "source": [
        "<img src=\"https://s3-api.us-geo.objectstorage.softlayer.net/cf-courses-data/CognitiveClass/DL0110EN/notebook_images%20/chapter%201/1.2index.png\" width=\"500\" alt=\"Example of Matrix Index\">"
      ]
    },
    {
      "metadata": {
        "id": "bssxBGcLBfb2",
        "colab_type": "text"
      },
      "cell_type": "markdown",
      "source": [
        "You simply use the square brackets and the indices corresponding to the element that you want."
      ]
    },
    {
      "metadata": {
        "id": "G4B7tTCnBfb5",
        "colab_type": "text"
      },
      "cell_type": "markdown",
      "source": [
        "Now, let us try to access the value on position 2nd-row 3rd-column. Remember that the index is always 1 less than how we count rows and columns. There are two ways to access the certain value of a tensor. The example in code will be the same as the example picture above."
      ]
    },
    {
      "metadata": {
        "id": "3rss-N-aBfb7",
        "colab_type": "code",
        "colab": {
          "base_uri": "https://localhost:8080/",
          "height": 54
        },
        "outputId": "e16285b7-30dd-47f8-e2a6-a4c06204cb7e"
      },
      "cell_type": "code",
      "source": [
        "# Use tensor_obj[row, column] and tensor_obj[row][column] to access certain position\n",
        "\n",
        "tensor_example = torch.tensor([[11, 12, 13], [21, 22, 23], [31, 32, 33]])\n",
        "print(\"What is the value on 2nd-row 3rd-column? \", tensor_example[1, 2])\n",
        "print(\"What is the value on 2nd-row 3rd-column? \", tensor_example[1][2])"
      ],
      "execution_count": 18,
      "outputs": [
        {
          "output_type": "stream",
          "text": [
            "What is the value on 2nd-row 3rd-column?  tensor(23)\n",
            "What is the value on 2nd-row 3rd-column?  tensor(23)\n"
          ],
          "name": "stdout"
        }
      ]
    },
    {
      "metadata": {
        "id": "EC1CWV8RBfcG",
        "colab_type": "text"
      },
      "cell_type": "markdown",
      "source": [
        "As we can see, both methods return the true value (the same value as the picture above). Therefore, both of the methods work."
      ]
    },
    {
      "metadata": {
        "id": "ANuMMI1ABfcI",
        "colab_type": "text"
      },
      "cell_type": "markdown",
      "source": [
        "<!--Empty Space for separating topics-->"
      ]
    },
    {
      "metadata": {
        "id": "Q2Ft6rKCBfcP",
        "colab_type": "text"
      },
      "cell_type": "markdown",
      "source": [
        "Consider the elements shown in the following figure: "
      ]
    },
    {
      "metadata": {
        "id": "E7DFXv25BfcV",
        "colab_type": "text"
      },
      "cell_type": "markdown",
      "source": [
        "<img src=\"https://s3-api.us-geo.objectstorage.softlayer.net/cf-courses-data/CognitiveClass/DL0110EN/notebook_images%20/chapter%201/1.2_index2.png\" width=\"500\" alt=\"Example of Matrix Index\" />"
      ]
    },
    {
      "metadata": {
        "id": "OkfUBPH-BfcY",
        "colab_type": "text"
      },
      "cell_type": "markdown",
      "source": [
        "Use the method above, we can access the 1st-row 1st-column by <code>tensor_example[0][0]</code>"
      ]
    },
    {
      "metadata": {
        "id": "V-w6N9AsBfcb",
        "colab_type": "text"
      },
      "cell_type": "markdown",
      "source": [
        "But what if we want to get the value on both 1st-row 1st-column and 1st-row 2nd-column?"
      ]
    },
    {
      "metadata": {
        "id": "oprEW8DTBfcf",
        "colab_type": "text"
      },
      "cell_type": "markdown",
      "source": [
        "You can also use slicing in a tensor. Consider the following figure. You want to obtain the 1st two columns in the 1st row:  "
      ]
    },
    {
      "metadata": {
        "id": "3NKk5Xq4Bfci",
        "colab_type": "text"
      },
      "cell_type": "markdown",
      "source": [
        "<img src=\"https://s3-api.us-geo.objectstorage.softlayer.net/cf-courses-data/CognitiveClass/DL0110EN/notebook_images%20/chapter%201/1.2sliceing.png\" width=\"500\" alt=\"Example of Matrix Index and Slicing\" />"
      ]
    },
    {
      "metadata": {
        "id": "tl1qAzPTBfcm",
        "colab_type": "text"
      },
      "cell_type": "markdown",
      "source": [
        "## Let us see how  we use slicing with 2D tensors to get the values in the above picture."
      ]
    },
    {
      "metadata": {
        "id": "QHHrudY7Bfct",
        "colab_type": "code",
        "colab": {
          "base_uri": "https://localhost:8080/",
          "height": 54
        },
        "outputId": "6e849a24-096f-413f-9935-2b133722cd3f"
      },
      "cell_type": "code",
      "source": [
        "# Use tensor_obj[begin_row_number: end_row_number, begin_column_number: end_column number] \n",
        "# and tensor_obj[row][begin_column_number: end_column number] to do the slicing\n",
        "\n",
        "tensor_example = torch.tensor([[11, 12, 13], [21, 22, 23], [31, 32, 33]])\n",
        "print(\"What is the value on 1st-row first two columns? \", tensor_example[0, 0:2])-\n",
        "print(\"What is the value on 1st-row first two columns? \", tensor_example[0][0:2])"
      ],
      "execution_count": 19,
      "outputs": [
        {
          "output_type": "stream",
          "text": [
            "What is the value on 1st-row first two columns?  tensor([11, 12])\n",
            "What is the value on 1st-row first two columns?  tensor([11, 12])\n"
          ],
          "name": "stdout"
        }
      ]
    },
    {
      "metadata": {
        "id": "33-ELmZyBfc4",
        "colab_type": "text"
      },
      "cell_type": "markdown",
      "source": [
        "We get the result as <code>tensor([11, 12])</code> successfully."
      ]
    },
    {
      "metadata": {
        "id": "r2cGPrfkBfc7",
        "colab_type": "text"
      },
      "cell_type": "markdown",
      "source": [
        "<!--Empty Space for separating topics-->"
      ]
    },
    {
      "metadata": {
        "id": "Ar_811JUBfc9",
        "colab_type": "text"
      },
      "cell_type": "markdown",
      "source": [
        "But we <b>can't</b> combine using slicing on row and pick one column by using the code <code>tensor_obj[begin_row_number: end_row_number][begin_column_number: end_column number]</code>. The reason is that the slicing will be applied on the tensor first. The result type will be a two dimension again. The second bracket will no longer represent the index of the column it will be the index of the row at that time. Let us see an example. "
      ]
    },
    {
      "metadata": {
        "id": "8md7xaA2Bfc_",
        "colab_type": "code",
        "colab": {
          "base_uri": "https://localhost:8080/",
          "height": 236
        },
        "outputId": "2a1c8e6b-3409-45cd-8b70-c0f856678a32"
      },
      "cell_type": "code",
      "source": [
        "# Give an idea on tensor_obj[number: number][number]\n",
        "\n",
        "tensor_example = torch.tensor([[11, 12, 13], [21, 22, 23], [31, 32, 33]])\n",
        "sliced_tensor_example = tensor_example[1:3]\n",
        "print(\"1. Slicing step on tensor_example: \")\n",
        "print(\"Result after tensor_example[1:3]: \", sliced_tensor_example)\n",
        "print(\"Dimension after tensor_example[1:3]: \", sliced_tensor_example.ndimension())\n",
        "print(\"================================================\")\n",
        "print(\"2. Pick an index on sliced_tensor_example: \")\n",
        "print(\"Result after sliced_tensor_example[1]: \", sliced_tensor_example[1])\n",
        "print(\"Dimension after sliced_tensor_example[1]: \", sliced_tensor_example[1].ndimension())\n",
        "print(\"================================================\")\n",
        "print(\"3. Combine these step together:\")\n",
        "print(\"Result: \", tensor_example[1:3][1])\n",
        "print(\"Dimension: \", tensor_example[1:3][1].ndimension())"
      ],
      "execution_count": 20,
      "outputs": [
        {
          "output_type": "stream",
          "text": [
            "1. Slicing step on tensor_example: \n",
            "Result after tensor_example[1:3]:  tensor([[21, 22, 23],\n",
            "        [31, 32, 33]])\n",
            "Dimension after tensor_example[1:3]:  2\n",
            "================================================\n",
            "2. Pick an index on sliced_tensor_example: \n",
            "Result after sliced_tensor_example[1]:  tensor([31, 32, 33])\n",
            "Dimension after sliced_tensor_example[1]:  1\n",
            "================================================\n",
            "3. Combine these step together:\n",
            "Result:  tensor([31, 32, 33])\n",
            "Dimension:  1\n"
          ],
          "name": "stdout"
        }
      ]
    },
    {
      "metadata": {
        "id": "DA6XhcF5BfdG",
        "colab_type": "text"
      },
      "cell_type": "markdown",
      "source": [
        "See the results and dimensions in 2 and 3 are the same. Both of them contains the 3rd row in the <code>tensor_example</code>, but not the last two values in the 3rd column."
      ]
    },
    {
      "metadata": {
        "id": "ECW5oUotBfdI",
        "colab_type": "text"
      },
      "cell_type": "markdown",
      "source": [
        "<!--Empty Space for separating topics-->"
      ]
    },
    {
      "metadata": {
        "id": "oAq77GtSBfdK",
        "colab_type": "text"
      },
      "cell_type": "markdown",
      "source": [
        "So how can we get the elements in the 3rd column with the last two rows? As the below picture."
      ]
    },
    {
      "metadata": {
        "id": "YvYKd7jYBfdN",
        "colab_type": "text"
      },
      "cell_type": "markdown",
      "source": [
        "<img src=\"https://s3-api.us-geo.objectstorage.softlayer.net/cf-courses-data/CognitiveClass/DL0110EN/notebook_images%20/chapter%201/1.2slicing2.png\" width=\"500\" alt=\"Example of Matrix Index and Slicing\" />"
      ]
    },
    {
      "metadata": {
        "id": "lnKB2UF4BfdP",
        "colab_type": "text"
      },
      "cell_type": "markdown",
      "source": [
        "Let's see the code below."
      ]
    },
    {
      "metadata": {
        "id": "YlMNW6N3BfdR",
        "colab_type": "code",
        "colab": {
          "base_uri": "https://localhost:8080/",
          "height": 36
        },
        "outputId": "2e5330f8-99a5-42ad-f587-7e0cfaf2ad66"
      },
      "cell_type": "code",
      "source": [
        "# Use tensor_obj[begin_row_number: end_row_number, begin_column_number: end_column number] \n",
        "\n",
        "tensor_example = torch.tensor([[11, 12, 13], [21, 22, 23], [31, 32, 33]])\n",
        "print(\"What is the value on 3rd-column last two rows? \", tensor_example[1:3, 2])"
      ],
      "execution_count": 21,
      "outputs": [
        {
          "output_type": "stream",
          "text": [
            "What is the value on 3rd-column last two rows?  tensor([23, 33])\n"
          ],
          "name": "stdout"
        }
      ]
    },
    {
      "metadata": {
        "id": "PoVHJAZ8BfdX",
        "colab_type": "text"
      },
      "cell_type": "markdown",
      "source": [
        "Fortunately, the code <code>tensor_obj[begin_row_number: end_row_number, begin_column_number: end_column number]</code> is still works."
      ]
    },
    {
      "metadata": {
        "id": "iZjt4-AHBfda",
        "colab_type": "text"
      },
      "cell_type": "markdown",
      "source": [
        "<!--Empty Space for separating topics-->"
      ]
    },
    {
      "metadata": {
        "id": "3qEwKuIfBfdc",
        "colab_type": "text"
      },
      "cell_type": "markdown",
      "source": [
        "<h3>Practice</h3>"
      ]
    },
    {
      "metadata": {
        "id": "UUbltHikBfdh",
        "colab_type": "text"
      },
      "cell_type": "markdown",
      "source": [
        "Try to change the values on the second column and the last two rows to 0. Basically, change the values on <code>tensor_ques[1][1]</code> and <code>tensor_ques[2][1]</code> to 0."
      ]
    },
    {
      "metadata": {
        "id": "srnJd5drBfdj",
        "colab_type": "code",
        "colab": {
          "base_uri": "https://localhost:8080/",
          "height": 72
        },
        "outputId": "4ed8560c-207b-4278-c23f-0534973c4f22"
      },
      "cell_type": "code",
      "source": [
        "# Practice: Use slice and index to change the values on the matrix tensor_ques.\n",
        "\n",
        "tensor_ques = torch.tensor([[11, 12, 13], [21, 22, 23], [31, 32, 33]])\n",
        "tensor_ques[1:3, 1] = 0\n",
        "print(tensor_ques)"
      ],
      "execution_count": 23,
      "outputs": [
        {
          "output_type": "stream",
          "text": [
            "tensor([[11, 12, 13],\n",
            "        [21,  0, 23],\n",
            "        [31,  0, 33]])\n"
          ],
          "name": "stdout"
        }
      ]
    },
    {
      "metadata": {
        "id": "71QiunaGBfdy",
        "colab_type": "text"
      },
      "cell_type": "markdown",
      "source": [
        "Double-click <b>here</b> for the solution.\n",
        "\n",
        "<!--\n",
        "tensor_ques[1:3, 1] = 0\n",
        "print(\"The result: \", tensor_ques)\n",
        "-->"
      ]
    },
    {
      "metadata": {
        "id": "27DrAj2LBfd0",
        "colab_type": "text"
      },
      "cell_type": "markdown",
      "source": [
        "<!--Empty Space for separating topics-->"
      ]
    },
    {
      "metadata": {
        "id": "zpMGO0wKBfd2",
        "colab_type": "text"
      },
      "cell_type": "markdown",
      "source": [
        "<h2 id=\"Tensor_Op\">Tensor Operations</h2> "
      ]
    },
    {
      "metadata": {
        "id": "M9ARZPccBfd5",
        "colab_type": "text"
      },
      "cell_type": "markdown",
      "source": [
        "We can also do some calculations on 2D tensors."
      ]
    },
    {
      "metadata": {
        "id": "Gv1bEJl8Bfd7",
        "colab_type": "text"
      },
      "cell_type": "markdown",
      "source": [
        "<!--Empty Space for separating topics-->"
      ]
    },
    {
      "metadata": {
        "id": "fmyozWmqBfd9",
        "colab_type": "text"
      },
      "cell_type": "markdown",
      "source": [
        "<h3>Tensor Addition</h3>"
      ]
    },
    {
      "metadata": {
        "id": "3Af4oIyoBfeM",
        "colab_type": "text"
      },
      "cell_type": "markdown",
      "source": [
        "You can also add tensors; the process is identical to matrix addition. Matrix addition of <b>X</b> and <b>Y</b> is shown in the following figure:"
      ]
    },
    {
      "metadata": {
        "id": "T4kAE3n2BfeQ",
        "colab_type": "text"
      },
      "cell_type": "markdown",
      "source": [
        "<img src=\"https://s3-api.us-geo.objectstorage.softlayer.net/cf-courses-data/CognitiveClass/DL0110EN/notebook_images%20/chapter%201/1.2add.png\" width=\"500\" alt=\"Tensor Addition in 2D\">"
      ]
    },
    {
      "metadata": {
        "id": "MpIVmh_uBfeU",
        "colab_type": "text"
      },
      "cell_type": "markdown",
      "source": [
        "Let us see how tensor addition works with <code>X</code> and <code>Y</code>."
      ]
    },
    {
      "metadata": {
        "id": "39V9l20RBfeW",
        "colab_type": "code",
        "colab": {
          "base_uri": "https://localhost:8080/",
          "height": 54
        },
        "outputId": "8f9f4da7-2b8c-4f7e-9503-fa2008bdade5"
      },
      "cell_type": "code",
      "source": [
        "# Calculate [[1, 0], [0, 1]] + [[2, 1], [1, 2]]\n",
        "\n",
        "X = torch.tensor([[1, 0],[0, 1]]) \n",
        "Y = torch.tensor([[2, 1],[1, 2]])\n",
        "X_plus_Y = X + Y\n",
        "print(\"The result of X + Y: \", X_plus_Y)"
      ],
      "execution_count": 24,
      "outputs": [
        {
          "output_type": "stream",
          "text": [
            "The result of X + Y:  tensor([[3, 1],\n",
            "        [1, 3]])\n"
          ],
          "name": "stdout"
        }
      ]
    },
    {
      "metadata": {
        "id": "59CJZlQrBfeh",
        "colab_type": "text"
      },
      "cell_type": "markdown",
      "source": [
        "Like the result shown in the picture above. The result is <code>[[3, 1], [1, 3]]</code>"
      ]
    },
    {
      "metadata": {
        "id": "jzgMZEo4Bfem",
        "colab_type": "text"
      },
      "cell_type": "markdown",
      "source": [
        "<!--Empty Space for separating topics-->"
      ]
    },
    {
      "metadata": {
        "id": "rj8yDUGmBfeo",
        "colab_type": "text"
      },
      "cell_type": "markdown",
      "source": [
        "<h3> Scalar Multiplication </h3>"
      ]
    },
    {
      "metadata": {
        "id": "8mGe1Q-LBfer",
        "colab_type": "text"
      },
      "cell_type": "markdown",
      "source": [
        "Multiplying a tensor by a scalar is identical to multiplying a matrix by a scaler. If you multiply the matrix <b>Y</b> by the scalar 2, you simply multiply every element in the matrix by 2 as shown in the figure:"
      ]
    },
    {
      "metadata": {
        "id": "-4OrhfeQBfeu",
        "colab_type": "text"
      },
      "cell_type": "markdown",
      "source": [
        "<img src=\"https://s3-api.us-geo.objectstorage.softlayer.net/cf-courses-data/CognitiveClass/DL0110EN/notebook_images%20/chapter%201/1.2scaller_mult.png\" width=\"500\" alt=\"The product of tensor and scalar\">"
      ]
    },
    {
      "metadata": {
        "id": "PKh6SY73Bfew",
        "colab_type": "text"
      },
      "cell_type": "markdown",
      "source": [
        "Let us try to calculate the product of <b>2Y</b>."
      ]
    },
    {
      "metadata": {
        "id": "rAVX5QD5Bfe0",
        "colab_type": "code",
        "colab": {
          "base_uri": "https://localhost:8080/",
          "height": 90
        },
        "outputId": "7a112b1f-61bd-488a-e30c-d7fd503b878f"
      },
      "cell_type": "code",
      "source": [
        "# Calculate 2 * [[2, 1], [1, 2]]\n",
        "\n",
        "Y = torch.tensor([[2, 1], [1, 2]]) \n",
        "two_Y = 2 * Y\n",
        "print(\"The result of 2Y: \", two_Y)\n",
        "Ysquared = Y * Y\n",
        "print(\"The results of Y * Y: \", Ysquared)"
      ],
      "execution_count": 28,
      "outputs": [
        {
          "output_type": "stream",
          "text": [
            "The result of 2Y:  tensor([[4, 2],\n",
            "        [2, 4]])\n",
            "The results of Y * Y:  tensor([[4, 1],\n",
            "        [1, 4]])\n"
          ],
          "name": "stdout"
        }
      ]
    },
    {
      "metadata": {
        "id": "ysqH2NlRBfe-",
        "colab_type": "text"
      },
      "cell_type": "markdown",
      "source": [
        "<!--Empty Space for separating topics-->"
      ]
    },
    {
      "metadata": {
        "id": "mHVvsrxLBffA",
        "colab_type": "text"
      },
      "cell_type": "markdown",
      "source": [
        "<h3>Element-wise Product/Hadamard Product</h3>"
      ]
    },
    {
      "metadata": {
        "id": "VrT5cM2QBffC",
        "colab_type": "text"
      },
      "cell_type": "markdown",
      "source": [
        "Multiplication of two tensors corresponds to an element-wise product or Hadamard product.  Consider matrix the <b>X</b> and <b>Y</b> with the same size. The Hadamard product corresponds to multiplying each of the elements at the same position, that is, multiplying elements with the same color together. The result is a new matrix that is the same size as matrix <b>X</b> and <b>Y</b> as shown in the following figure:"
      ]
    },
    {
      "metadata": {
        "id": "_9Ua599JBffF",
        "colab_type": "text"
      },
      "cell_type": "markdown",
      "source": [
        " <a><img src=\"https://s3-api.us-geo.objectstorage.softlayer.net/cf-courses-data/CognitiveClass/DL0110EN/notebook_images%20/chapter%201/1.2tensor_pruduct.png\" width=500 align=\"center\"> </a>\n"
      ]
    },
    {
      "metadata": {
        "id": "_K8nsngnBffH",
        "colab_type": "text"
      },
      "cell_type": "markdown",
      "source": [
        "The code below calculates the element-wise product of the tensor <strong>X</strong> and <strong>Y</strong>:"
      ]
    },
    {
      "metadata": {
        "id": "3-DcVC8wBffJ",
        "colab_type": "code",
        "colab": {
          "base_uri": "https://localhost:8080/",
          "height": 54
        },
        "outputId": "d6295425-47e3-4647-fa34-19a83ad89b08"
      },
      "cell_type": "code",
      "source": [
        "# Calculate [[1, 0], [0, 1]] * [[2, 1], [1, 2]]\n",
        "\n",
        "X = torch.tensor([[1, 0], [0, 1]])\n",
        "Y = torch.tensor([[2, 1], [1, 2]]) \n",
        "X_times_Y = X * Y\n",
        "print(\"The result of X * Y: \", X_times_Y)"
      ],
      "execution_count": 29,
      "outputs": [
        {
          "output_type": "stream",
          "text": [
            "The result of X * Y:  tensor([[2, 0],\n",
            "        [0, 2]])\n"
          ],
          "name": "stdout"
        }
      ]
    },
    {
      "metadata": {
        "id": "AGCUBlNhBffP",
        "colab_type": "text"
      },
      "cell_type": "markdown",
      "source": [
        "This is a simple calculation. The result from the code matches the result shown in the picture."
      ]
    },
    {
      "metadata": {
        "id": "1tvjTHAfBffR",
        "colab_type": "text"
      },
      "cell_type": "markdown",
      "source": [
        "<!--Empty Space for separating topics-->"
      ]
    },
    {
      "metadata": {
        "id": "A-bmPxXNBffe",
        "colab_type": "text"
      },
      "cell_type": "markdown",
      "source": [
        "<h3>Matrix Multiplication </h3>"
      ]
    },
    {
      "metadata": {
        "id": "xDR-kWXsBffg",
        "colab_type": "text"
      },
      "cell_type": "markdown",
      "source": [
        "We can also apply matrix multiplication to two tensors, if you have learned linear algebra, you should know that in the multiplication of two matrices order matters. This means if <i>X * Y</i> is valid, it does not mean <i>Y * X</i> is valid. The number of columns of the matrix on the left side of the multiplication sign must equal to the number of rows of the matrix on the right side."
      ]
    },
    {
      "metadata": {
        "id": "A8M7bjBRBffk",
        "colab_type": "text"
      },
      "cell_type": "markdown",
      "source": [
        "First, let us create a tensor <code>X</code> with size 2X3. Then, let us create another tensor <code>Y</code> with size 3X2. Since the number of columns of <code>X</code> is equal to the number of rows of <code>Y</code>. We are able to perform the multiplication."
      ]
    },
    {
      "metadata": {
        "id": "Bp0XhIS5Bffm",
        "colab_type": "text"
      },
      "cell_type": "markdown",
      "source": [
        "We use <code>torch.mm()</code> for calculating the multiplication between tensors with different sizes."
      ]
    },
    {
      "metadata": {
        "id": "R89yU3t-Bffo",
        "colab_type": "code",
        "colab": {
          "base_uri": "https://localhost:8080/",
          "height": 54
        },
        "outputId": "3746ecaf-e9a9-4b51-8a0d-ba78e0fb47e5"
      },
      "cell_type": "code",
      "source": [
        "# Calculate [[0, 1, 1], [1, 0, 1]] * [[1, 1], [1, 1], [-1, 1]]\n",
        "\n",
        "A = torch.tensor([[0, 1, 1], [1, 0, 1]])\n",
        "B = torch.tensor([[1, 1], [1, 1], [-1, 1]])\n",
        "A_times_B = torch.mm(A,B)\n",
        "print(\"The result of A * B: \", A_times_B)"
      ],
      "execution_count": 30,
      "outputs": [
        {
          "output_type": "stream",
          "text": [
            "The result of A * B:  tensor([[0, 2],\n",
            "        [0, 2]])\n"
          ],
          "name": "stdout"
        }
      ]
    },
    {
      "metadata": {
        "id": "VDdf7kTIBffu",
        "colab_type": "text"
      },
      "cell_type": "markdown",
      "source": [
        "<!--Empty Space for separating topics-->"
      ]
    },
    {
      "metadata": {
        "id": "Guj9URr8Bffx",
        "colab_type": "text"
      },
      "cell_type": "markdown",
      "source": [
        "<h3>Practice</h3>"
      ]
    },
    {
      "metadata": {
        "id": "0CpH517UBffz",
        "colab_type": "text"
      },
      "cell_type": "markdown",
      "source": [
        "Try to create your own two tensors (<code>X</code> and <code>Y</code>) with different sizes, and multiply them."
      ]
    },
    {
      "metadata": {
        "id": "Nu-NUzmGBff1",
        "colab_type": "code",
        "colab": {
          "base_uri": "https://localhost:8080/",
          "height": 72
        },
        "outputId": "eec84535-5df5-49ac-b8df-cda641b108dc"
      },
      "cell_type": "code",
      "source": [
        "# Practice: Calculate the product of two tensors (X and Y) with different sizes \n",
        "\n",
        "X = torch.tensor([[1, 2], [4, 5], [7, 8]])\n",
        "Y = torch.tensor([[1, 1, 1], [2, 2, 2], [3, 3, 3]])\n",
        "Z = torch.mm(Y, X)\n",
        "print(Z)"
      ],
      "execution_count": 34,
      "outputs": [
        {
          "output_type": "stream",
          "text": [
            "tensor([[12, 15],\n",
            "        [24, 30],\n",
            "        [36, 45]])\n"
          ],
          "name": "stdout"
        }
      ]
    },
    {
      "metadata": {
        "id": "m_3D8QsBBff6",
        "colab_type": "text"
      },
      "cell_type": "markdown",
      "source": [
        "Double-click <b>here</b> for the solution.\n",
        "\n",
        "<!--\n",
        "X = torch.tensor([[0, 1], [1, 2]])\n",
        "Y = torch.tensor([[-1, -2, 0], [2, 1, 2]])\n",
        "X_times_Y = torch.mm(X, Y)\n",
        "print(\"The result of X * Y: \", X_times_Y)\n",
        "-->"
      ]
    },
    {
      "metadata": {
        "id": "D03AQHkBBff8",
        "colab_type": "text"
      },
      "cell_type": "markdown",
      "source": [
        "<!--Empty Space for separating topics-->"
      ]
    },
    {
      "metadata": {
        "id": "G5GRtzRuBff-",
        "colab_type": "text"
      },
      "cell_type": "markdown",
      "source": [
        "<!--Empty Space for separating topics-->"
      ]
    },
    {
      "metadata": {
        "id": "eo29KhjpBfgA",
        "colab_type": "text"
      },
      "cell_type": "markdown",
      "source": [
        "<a href=\"http://cocl.us/pytorch_link_bottom\">\n",
        "    <img src=\"https://s3-api.us-geo.objectstorage.softlayer.net/cf-courses-data/CognitiveClass/DL0110EN/notebook_images%20/notebook_bottom%20.png\" width=\"750\" alt=\"PyTorch Bottom\" />\n",
        "</a>"
      ]
    },
    {
      "metadata": {
        "id": "rndiJ8_cBfgD",
        "colab_type": "text"
      },
      "cell_type": "markdown",
      "source": [
        "<h2>About the Authors:</h2> \n",
        "\n",
        "<a href=\"https://www.linkedin.com/in/joseph-s-50398b136/\">Joseph Santarcangelo</a> has a PhD in Electrical Engineering, his research focused on using machine learning, signal processing, and computer vision to determine how videos impact human cognition. Joseph has been working for IBM since he completed his PhD."
      ]
    },
    {
      "metadata": {
        "id": "oovUIeATBfgF",
        "colab_type": "text"
      },
      "cell_type": "markdown",
      "source": [
        "Other contributors: <a href=\"https://www.linkedin.com/in/michelleccarey/\">Michelle Carey</a>, <a href=\"www.linkedin.com/in/jiahui-mavis-zhou-a4537814a\">Mavis Zhou</a> "
      ]
    },
    {
      "metadata": {
        "id": "QDMaSVipBfgH",
        "colab_type": "text"
      },
      "cell_type": "markdown",
      "source": [
        "<hr>"
      ]
    },
    {
      "metadata": {
        "id": "gRL7i6C5BfgL",
        "colab_type": "text"
      },
      "cell_type": "markdown",
      "source": [
        "Copyright &copy; 2018 <a href=\"cognitiveclass.ai?utm_source=bducopyrightlink&utm_medium=dswb&utm_campaign=bdu\">cognitiveclass.ai</a>. This notebook and its source code are released under the terms of the <a href=\"https://bigdatauniversity.com/mit-license/\">MIT License</a>."
      ]
    }
  ]
}